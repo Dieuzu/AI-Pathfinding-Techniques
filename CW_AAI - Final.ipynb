{
  "cells": [
    {
      "cell_type": "markdown",
      "metadata": {
        "id": "E_SWadp80Vx3"
      },
      "source": [
        "<div style=\"display: flex; justify-content: center;\">\n",
        "    <img src=\"https://cdn.discordapp.com/attachments/1178979732201672718/1179045608837873724/IIT.png\" alt=\"IIT Logo\" style=\"width: 28%;\">\n",
        "    <img src=\"https://cdn.discordapp.com/attachments/1178979732201672718/1179045619025858560/uow.png\" alt=\"UoW Logo\" style=\"width: 28%;\">\n",
        "</div>\n",
        "\n",
        "## <center>INFORMATICS INSTITUTE OF TECHNOLOGY</center>\n",
        "### <center>BSC (Hons) Computer Science</center>\n",
        "## <center>UNIVERSITY OF WESTMINSTER</center>\n",
        "\n",
        "## <center>6COSC020C.1 Applied AI</center>\n",
        "### <center>Coursework (2023/24)</center>\n",
        "\n",
        "# <center>Optimizing Game Environments: A Comprehensive Study of AI Pathfinding Techniques</center>\n",
        "### <center>Domain : Games </center>\n",
        "\n",
        "### <center>By: Saadat Hamid Mansoor</center>\n",
        "### <center>Student ID: 20200616 | UoW ID : w1833660</center>\n",
        "\n",
        "<div style=\"display: flex; justify-content: center;\">\n",
        "    <img src=\"https://cdn.discordapp.com/attachments/1178979732201672718/1179678027022598244/feNPC.png\" alt=\"Beautiful Sunset\">\n",
        "</div>\n",
        "\n"
      ]
    },
    {
      "cell_type": "markdown",
      "metadata": {},
      "source": [
        "# Table of Contents\n",
        "\n",
        "1. [Part A – Application Area Review](#part-a)\n",
        "    - [Introduction](#pa-intro)\n",
        "    - [Overview of AI in Games](#pa-overview)\n",
        "2. [Part B – Compare and Evaluate AI Techniques](#part-b)\n",
        "    - [Introduction to Pathfinding](#pb-intro)\n",
        "       - [Introduction to   Pathfinding](#pb-overview)  ///EXAMPLE\n",
        "    - [Depth-First Search (DFS)](#pb-dfs)\n",
        "    - [Dijkstra's Algorithm](#pb-dijkstra)\n",
        "    - [A* (A-star) Algorithm](#pb-astar)\n",
        "    - [Terrain Generation Using Perlin Noise](#pb-perlin)\n",
        "3. [Part C – Implementation](#part-c)\n",
        "4. [Part D – Testing](#part-d)\n",
        "5. [Part E – Evaluate Results](#part-e)\n",
        "6. [References](#references)\n",
        "7. [Word Count](#wordcount)"
      ]
    },
    {
      "cell_type": "markdown",
      "metadata": {},
      "source": [
        "# Part A – Application area review <a name=\"part-a\"></a>"
      ]
    },
    {
      "cell_type": "markdown",
      "metadata": {},
      "source": [
        "## Introduction\n",
        "\n",
        "Artificial Intelligence (AI) has been an integral part of video games since their inception in the 1950s. In video games, AI is used to generate responsive, adaptive, or intelligent behaviors primarily in non-playable characters (NPCs), similar to human-like intelligence. AI in video games is a distinct subfield and differs from academic AI. It serves to improve the game-player experience rather than machine learning or decision making. The integration of Artificial Intelligence (AI) in the gaming industry has transformed virtual environments, enhancing player experiences through lifelike behaviors and dynamic content generation.\n"
      ]
    },
    {
      "cell_type": "markdown",
      "metadata": {},
      "source": [
        "\n",
        "## Overview of AI in Games\n",
        "In the year 1980 the game Pac-Man was released containing what is now considered the very early stages of AI in games (Figure 1). the game employed a basic state machine for its enemy characters, with ghosts transitioning between chasing, scattering, and frightened states. Each ghost followed a distinct rule in chase mode, lending them unique personalities. until the mid 1990's, the field of game AI remained relatively stagnant, with computer-controlled characters resembling the simplicity of Pac-Man ghosts, lacking significant advancements in sophistication. (Ian Millington, 2022)\n",
        "\n",
        "<div style=\"display: flex; justify-content: center;\">\n",
        "    <img src=\"https://cdn.discordapp.com/attachments/1178979732201672718/1179674530797596682/file.png\" alt=\"Beautiful Sunset\" style=\"width: 28%;\">\n",
        "</div>\n",
        "**Figure 1: Pac-Man 1980**\n",
        "\n",
        "AI, once confined to the realms of enemy character behaviors, has now become an influential force in modern game development. Its influence permeates every aspect of the gaming experience, introducing layers of complexity that enhance the immersive nature of virtual environments. The transformative shift in AI over the past decade is marked by the rise of deep learning, driven not by academic breakthroughs but by the practical application of neural networks, notably empowered by increased computing capabilities.\n",
        "\n",
        "AI in games primarily serves three fundamental functions: character movement, decision-making on movement, and tactical or strategic thinking, with many diverse approaches converging to meet these common requirements (Ian Millington, 2022). a brief look into some of the most important aspects of AI in games will be listed below.\n",
        "\n",
        "\n",
        "1. Pathfinding Algorithms: \n",
        "Pathfinding is a critical aspect of game AI that enables non-player characters (NPCs) to navigate through the game world. The goal of pathfinding algorithms is to find the most efficient route from point A to point B. At the heart of dynamic character movement lies pathfinding algorithms. A* (A-star), Dijkstra's algorithm, and Depth-First Search (DFS) are the digital pathfinding methods guiding Non Player Characters (NPC) through the virtual realms of games. These algorithms are not just mathematical formulas, they are the foundation of seamless exploration, ensuring that characters traverse diverse landscapes with a natural fluidity while remaining true to their goals and keeping the illusion of immersiveness real. Figure 2 Showcases how a pathfinding is applied to Enemy NPCs to predict their possible movement outcomes towards the player character. \n",
        "RPG games like Fire Emblem developed by intelligent systems and published by Nintendo has been using Pathfinding algorithms since 1990 in their first release: Fire Emblem: Shadow Dragon and the Blade of Light (1990), and each subsequent game has improved on the AI that handles pathfinding right up to their newest release in 2023 Fire Emblem Engage. The integration of advanced pathfinding algorithms ensures characters navigate challenging terrains seamlessly.\n",
        "\n",
        "\n",
        "<div style=\"display: flex; justify-content: center;\">\n",
        "    <img src=\"https://cdn.discordapp.com/attachments/1178979732201672718/1178980437712973855/2023012014511500_c1.jpg\" alt=\"Beautiful Sunset\" style=\"width: 48%;\">\n",
        "</div>\n",
        "**Figure 2: Fire Emblem Engage 2023 : possible NPC attack Points visualized**\n",
        "\n",
        "2. Terrain Generation: \n",
        "Terrain generation in games refers to the process of creating the game environment or ‘world’. This could include everything from the landscapes and weather systems to the placement of buildings and objects. AI can be used to procedurally generate these terrains, creating unique and dynamic environments for each play through. The locations on which most of the gaming narrative unfolds is no longer static but a living, breathing entity shaped by terrain generation algorithms. Some notable techniques include Perlin noise and cellular automata, similar to virtual sculptors these techniques can craft terrains with jagged mountain ranges, meandering rivers, and sprawling valleys. \n",
        "The result is a dynamic location that responds to the player's every action, creating unique and ever-changing levels of visual splendor filled with exciting and strategic challenges. Figure 3 showcases how a natural looking terrain can be procedurally generated. Procedural terrain generation, as seen in games like \"Minecraft\" and \"No Man's Sky,\" leads to the creation of vast and diverse landscapes. The result is a dynamic and immersive gaming experience where players can explore unique and procedurally generated worlds.\n",
        "\n",
        "\n",
        "<div style=\"display: flex; justify-content: center;\">\n",
        "    <img src=\"https://cdn.discordapp.com/attachments/1178979732201672718/1179681289121562695/Kb9SpjJ.png\" alt=\"Beautiful Sunset\" style=\"width: 48%;\">\n",
        "</div>\n",
        "\n",
        "3. Procedural Content Creation: \n",
        "Procedural Content Creation (PCC) is a method of creating game content algorithmically rather than manually. In other words, developers create algorithms that generate game content on the fly. This could include anything from level design and object placement to narrative events and dialogue. PCC allows for a vast amount of content to be created with minimal input from developers, making it ideal for open-world games or games with a high degree of replayability. It also ensures that each player’s experience is unique, as the content they encounter will be different each time they play. The storytellers of virtual worlds are no longer bound by predefined narratives. \n",
        "When it comes to AI in games, Procedural Content Creation is a popular area of research. Deep learning methods have been applied to generate game content directly or indirectly, such as levels, maps, character models, and textures 1. AI algorithms can assist in creating game assets, such as textures, 3D models, and animations. This accelerates the development process, allowing designers to focus on more creative aspects while AI handles repetitive tasks. Additionally, AI can help generate questlines, dialogues, and story elements\n",
        "\n",
        "\n",
        "As we explore the various of AI in games, we uncover not just a technological advancement but a reimagining of the very essence of interactive entertainment. In conclusion, AI has revolutionized the way we design and play video games. It has allowed for more complex and realistic game worlds, more intelligent and believable NPCs, and a more personalized and dynamic gaming experience. As AI technology continues to advance, we can only expect its role in video game development to grow. \n",
        "\n",
        "The overview presented here is just a glimpse into the intricate combination between AI algorithms and creative expression that defines the modern gaming experience, a testament to the limitless possibilities that game developers are privileged to have and use. the Next chapter will explore some of the key aspects of AI pathfinding and touch briefly on terrain generation with Perlin Noise.\n",
        "\n",
        "\n"
      ]
    },
    {
      "cell_type": "markdown",
      "metadata": {},
      "source": [
        "# Part B – Compare and evaluate AI techniques <a name=\"part-b\"></a>"
      ]
    },
    {
      "cell_type": "markdown",
      "metadata": {},
      "source": [
        "**Domain**: Games\n",
        "\n",
        "**Problem**: Optimizing pathfinding for non-player characters (NPC) to find player character in a grid based RPG style game.\n",
        "\n",
        "**Goal**: To identify an optimal AI pathfinding technique to implement into an NPC for tracking the player character in a grid-based RPG. The objective is to achieve the shortest distance traveled, highest efficiency, and minimal traversal cost, accounting for various terrains with distinct difficulty levels or weights.\n"
      ]
    },
    {
      "cell_type": "markdown",
      "metadata": {},
      "source": [
        "## __Introduction to Pathfinding__"
      ]
    },
    {
      "cell_type": "markdown",
      "metadata": {},
      "source": [
        "All good grid-based RPG games employ specific pathfinding algorithms for their NPCs, to make the NPC movements look planned and deliberate giving a sense of realism. Pathfinding, also known as path planning, has many different approaches on how it can be tackled and used. For the domain of games, the author chooses to explore 3 of the most iconic pathfinding techniques and decide on the most optimal one as a solution for his grid based RPG game. The 3 Pathfinding techniques are: Depth-First Search (DFS), Dijkstra's Algorithm and A* (A-star) Algorithm. Additionally, for a more comprehensive exploration of AI pathfinding, the author will discuss another commonly used AI technique in level design, touching upon terrain generation and incorporating the use of Perlin noise."
      ]
    },
    {
      "cell_type": "markdown",
      "metadata": {},
      "source": [
        "## __Depth-First Search (DFS)__"
      ]
    },
    {
      "cell_type": "markdown",
      "metadata": {},
      "source": [
        "Depth-First Search (DFS) is a fundamental algorithm used in pathfinding within the domain of games. This algorithm explores a graph or tree by prioritizing deep exploration over breadth. Let's delve into the strengths, weaknesses, advantages, and disadvantages of DFS in the context of pathfinding for games"
      ]
    },
    {
      "cell_type": "markdown",
      "metadata": {},
      "source": [
        "**Strengths and Weaknesses of DFS**\n",
        "\n",
        "    DFS is known for its simplicity and ease of implementation. It is a versatile algorithm applicable to various types of graphs, making it suitable for different game environments. The memory requirements of DFS are minimal, as it only needs to store information about the current path being explored. In game scenarios, where computational resources are crucial, this efficiency is a significant strength.\n",
        "\n",
        "    One prominent weakness of DFS is its lack of optimality. Since it doesn't consider the weights of the edges, it might not always find the shortest path. In game development, finding the optimal path is often crucial for efficient navigation, and DFS may fall short in this regard. Additionally, DFS may get stuck in infinite loops if the graph contains cycles, posing challenges for real-time applications like games.\n"
      ]
    },
    {
      "cell_type": "markdown",
      "metadata": {},
      "source": [
        "**Advantages and Disadvantages of DFS**\n",
        "\n",
        "    DFS is well-suited for scenarios where a solution path is likely to be deep within the graph. In game maps where long paths need to be traversed, DFS might outperform other algorithms. Its simplicity also makes it a good choice for quick prototyping and initial testing phases in game development.\n",
        "\n",
        "    The lack of optimality is a significant drawback in scenarios where finding the shortest path is essential. In games, especially those requiring precise navigation, suboptimal paths could lead to inefficient AI behavior. Additionally, DFS might not be suitable for dynamic environments where paths change frequently, as it does not adapt well to alterations in the graph.\n"
      ]
    },
    {
      "cell_type": "markdown",
      "metadata": {},
      "source": [
        "**Examples of Application**\n",
        "\n",
        "        In games, DFS can be applied to character navigation in large, open-world maps. For instance, in an adventure game, DFS could be used by non-player characters (NPCs) to explore and find hidden locations. However, it might not be the best choice for scenarios where NPCs need to find the shortest path to a destination due to its non-optimality."
      ]
    },
    {
      "cell_type": "markdown",
      "metadata": {},
      "source": [
        "   **Input Data and Expected Output**\n",
        "\n",
        "      DFS typically requires information about the adjacency of nodes in the graph. In the context of games, this translates to data about the connections between different locations or tiles. The expected output is the path taken, which might not always be the shortest but is the first path discovered by the algorithm."
      ]
    },
    {
      "cell_type": "markdown",
      "metadata": {},
      "source": [
        "In short, Depth-First Search is a simple and resource-efficient algorithm suitable for certain game scenarios. However, its lack of optimality and susceptibility to infinite loops limit its applicability in games where finding the shortest path is crucial. While it can be implemented for the authors RPG game, it is not ideal! so in the next section will explore the Dijkstra's Algorithm."
      ]
    },
    {
      "cell_type": "markdown",
      "metadata": {},
      "source": [
        "## __Dijkstra's Algorithm__"
      ]
    },
    {
      "cell_type": "markdown",
      "metadata": {},
      "source": [
        "The Dijkstra's Algorithm is another widely used pathfinding algorithm with distinct strengths and weaknesses in the context of game development. Let's delve into its characteristics, advantages, disadvantages, and applications."
      ]
    },
    {
      "cell_type": "markdown",
      "metadata": {},
      "source": [
        "**Strengths and Weaknesses of Dijkstra's Algorithm**\n",
        "\n",
        "        One of the primary strengths of Dijkstra's Algorithm is its ability to find the shortest path in a weighted graph. This makes it highly suitable for scenarios in games where the distance between locations matters, ensuring optimal pathfinding. Dijkstra's Algorithm guarantees the optimality of the solution, providing confidence in the accuracy of the results.\n",
        "\n",
        "        While Dijkstra's Algorithm excels in finding the shortest path, it can be computationally expensive in terms of time and memory, especially in large graphs. This algorithm explores all possibilities without any heuristic guidance, which can be inefficient for certain game environments. In scenarios where computational resources are limited, Dijkstra's Algorithm might not be the most efficient choice.\n"
      ]
    },
    {
      "cell_type": "markdown",
      "metadata": {},
      "source": [
        "**Advantages and Disadvantages of Dijkstra's Algorithm**\n",
        "\n",
        "        The primary advantage of Dijkstra's Algorithm lies in its optimality – it guarantees the shortest path. This is particularly crucial in games where precise navigation is essential. Additionally, Dijkstra's Algorithm is flexible and can be adapted for use in various game environments with weighted graphs.\n",
        "\n",
        "        One notable disadvantage is the computational cost associated with exploring all possible paths. In real-time games where quick decision-making is required, the time complexity of Dijkstra's Algorithm might be a drawback. Additionally, the algorithm doesn't consider any heuristic information, potentially leading to suboptimal performance in certain scenarios.\n"
      ]
    },
    {
      "cell_type": "markdown",
      "metadata": {},
      "source": [
        "**Examples of Application**\n",
        "\n",
        "        In games, Dijkstra's Algorithm can be applied to scenarios where finding the optimal path is crucial, such as guiding characters through a maze or determining the best route for a moving object. For instance, in a strategy game, Dijkstra's Algorithm could be employed to calculate the most efficient path for units to reach a destination, taking into account terrain costs."
      ]
    },
    {
      "cell_type": "markdown",
      "metadata": {},
      "source": [
        "**Input Data and Expected Output**\n",
        "\n",
        "        Dijkstra's Algorithm requires information about the weighted connections between nodes in the graph, indicating the cost of moving from one location to another. In the context of games, this could represent the distance or difficulty of traversal between different game tiles. The expected output is the shortest path from the source to the destination."
      ]
    },
    {
      "cell_type": "markdown",
      "metadata": {},
      "source": [
        "In short, the Dijkstra's Algorithm is quite powerful for finding the shortest path in game scenarios that involve weighted graphs. Its optimality is a significant advantage, but the computational cost may limit its applicability in real-time, resource-constrained environments. While this algorithm can be implemented and sounds perfect for an RPG game the author feels there could be an even better pathfinding technique, so the next section will explore the A* algorithm."
      ]
    },
    {
      "cell_type": "markdown",
      "metadata": {},
      "source": [
        "## __A* (A-star) Algorithm__"
      ]
    },
    {
      "cell_type": "markdown",
      "metadata": {},
      "source": [
        "A* (A-star) algorithm is a widely used and highly efficient pathfinding algorithm that combines the benefits of both Depth-First Search (DFS) and Dijkstra's Algorithm while mitigating their drawbacks. Let's explore the strengths, weaknesses, advantages, and disadvantages of A* in the context of game development for the authors RPG game."
      ]
    },
    {
      "cell_type": "markdown",
      "metadata": {},
      "source": [
        "**Strengths and Weaknesses of A\\* Algorithm**\n",
        "\n",
        "        A* is known for its optimality, providing the shortest path in weighted graphs. This algorithm introduces a heuristic component, making it more efficient than Dijkstra's Algorithm by guiding the search towards the most promising paths. A* strikes a balance between completeness and optimality, making it suitable for various game environments. Its ability to adapt to different heuristic functions contributes to its flexibility.\n",
        "\n",
        "        While A* is a powerful algorithm, its main weakness lies in its potential computational complexity. The efficiency of A* heavily depends on the quality of the heuristic function used. In scenarios where a poorly chosen heuristic leads to overestimation or underestimation of costs, A* might not perform optimally. Additionally, A* may struggle in scenarios with dynamic environments, as it doesn't adapt well to changes in the graph.\n"
      ]
    },
    {
      "cell_type": "markdown",
      "metadata": {},
      "source": [
        "**Advantages of using A\\* Algorithm**\n",
        "\n",
        "        One significant advantage of A* is its ability to find the optimal path efficiently. By incorporating a heuristic function like the Manhattan distance, A* narrows down the search space, making it more suitable for real-time applications in games. It also outperforms both DFS and Dijkstra's Algorithm in terms of computational efficiency, especially in scenarios where finding the shortest path is critical.\n"
      ]
    },
    {
      "cell_type": "markdown",
      "metadata": {},
      "source": [
        "**Examples of Application**\n",
        "\n",
        "        In games, A* is widely used for character navigation, pathfinding for moving objects, and determining optimal routes for game entities. For example, in a real-time strategy game, A* could be employed to guide units through changing terrain efficiently, adapting to obstacles and avoiding unnecessary detours."
      ]
    },
    {
      "cell_type": "markdown",
      "metadata": {},
      "source": [
        "**Input Data and Expected Output**\n",
        "\n",
        "        Similar to Dijkstra's Algorithm, A* requires information about the weighted connections between nodes in the graph, along with a well-designed heuristic function. In game development, this data could represent the distances or costs associated with moving between different locations. The expected output is the optimal path from the source to the destination."
      ]
    },
    {
      "cell_type": "markdown",
      "metadata": {},
      "source": [
        "**Manhattan Distance as a Heuristic**\n",
        "\n",
        "        One commonly used heuristic in A* is the Manhattan distance, especially in grid-based games. This heuristic calculates the distance between two points on a grid by summing the absolute differences of their coordinates. Using the Manhattan distance as a heuristic in A* is advantageous in scenarios where movement is constrained to grid positions, providing a good balance between accuracy and computational efficiency."
      ]
    },
    {
      "cell_type": "markdown",
      "metadata": {},
      "source": [
        "In conclusion, A* stands out as a powerful and widely applicable pathfinding algorithm for the authors RPG game. Its ability to find optimal paths efficiently, guided by a well-designed heuristic like the Manhattan distance, makes it the perfect choice for the player tracking NPC in a grid-based RPG."
      ]
    },
    {
      "cell_type": "markdown",
      "metadata": {},
      "source": [
        "## __Terrain Generation Using Perlin Noise__"
      ]
    },
    {
      "cell_type": "markdown",
      "metadata": {},
      "source": [
        "Terrain generation using Perlin noise is a widely employed technique in game development to create realistic and visually appealing landscapes. Let's explore the strengths, weaknesses, advantages, and disadvantages of using Perlin noise for terrain generation."
      ]
    },
    {
      "cell_type": "markdown",
      "metadata": {},
      "source": [
        "**Strengths and Weaknesses of Perlin noise for Terrain Generation**\n",
        "\n",
        "        Perlin noise is renowned for its ability to generate smooth, continuous, and natural-looking patterns. This quality makes it particularly well-suited for terrain generation, as it mimics the organic variations found in natural landscapes. The algorithm is relatively simple to implement, providing a good balance between computational efficiency and visual quality.\n",
        "\n",
        "        While Perlin noise excels in creating organic patterns, its weakness lies in the potential for uniformity (this can be observed during Part C Implementation section). Without additional modifications or layers, Perlin noise might generate terrains that appear too smooth or lack the desired level of detail. To address this, developers often combine multiple layers of Perlin noise or apply additional algorithms for more intricate terrains.\n"
      ]
    },
    {
      "cell_type": "markdown",
      "metadata": {},
      "source": [
        "**Advantages and Disadvantages of Perlin noise for Terrain Generation**\n",
        "\n",
        "        One of the primary advantages of Perlin noise is its versatility. It can be adjusted to generate a variety of terrains, from rolling hills to rugged mountains. The simplicity of the algorithm makes it accessible for developers at various skill levels. Additionally, Perlin noise provides a level of randomness that contributes to the uniqueness of each generated terrain, enhancing the overall gaming experience.\n",
        "\n",
        "        The main disadvantage is the potential for monotony without proper adjustments. While Perlin noise offers a good starting point, it might not capture all the nuances of complex natural landscapes. Developers often need to complement Perlin noise with additional algorithms or tweak parameters to achieve the desired level of realism and variety in terrain generation.\n"
      ]
    },
    {
      "cell_type": "markdown",
      "metadata": {},
      "source": [
        "**Examples of Application**\n",
        "\n",
        "        Perlin noise is commonly used in open-world games to generate realistic landscapes. For instance, in a role-playing game (RPG), Perlin noise could be employed to create diverse terrains, including plains, forests, and mountains. The algorithm's adaptability allows developers to tailor generated terrains to suit the thematic requirements of their games."
      ]
    },
    {
      "cell_type": "markdown",
      "metadata": {},
      "source": [
        "**Input Data and Expected Output**\n",
        "\n",
        "        Perlin noise typically requires input parameters such as scale, octaves, and persistence to control the characteristics of the generated terrain. The expected output is a heightmap representing the elevations of the terrain, which can then be translated into 3D landscapes or 2D maps for game environments."
      ]
    },
    {
      "cell_type": "markdown",
      "metadata": {},
      "source": [
        "In summary, Perlin noise is a valuable tool for terrain generation in game development due to its simplicity, versatility, and ability to produce visually appealing landscapes. While it may have limitations in generating highly detailed terrains, developers can overcome these challenges by combining Perlin noise with other techniques or tweaking parameters to achieve the desired level of complexity and realism. "
      ]
    },
    {
      "cell_type": "markdown",
      "metadata": {},
      "source": [
        "## __Conclusion__"
      ]
    },
    {
      "cell_type": "markdown",
      "metadata": {},
      "source": [
        "After comparing and analyzing the 3 pathfinding techniques the author feels A* can be considered superior to DFS and Dijkstra's Algorithm in scenarios where optimality and computational efficiency are crucial. By incorporating a heuristic like the Manhattan distance, A* significantly reduces the search space, focusing on the most promising paths. In comparison to DFS, A* guarantees optimality, and compared to Dijkstra's Algorithm, it often achieves the same optimality with lower computational cost making it the perfect pathfinding technique for the authors grid-based RPG.\n",
        "\n",
        "The Author chose to include terrain generation using Perlin noise in this section to further enhance the profoundness of pathfinding techniques. The next section will showcase different implementations of A* algorithm for various situations and also how it stays optimal even in a procedurally generated terrain."
      ]
    },
    {
      "cell_type": "markdown",
      "metadata": {
        "id": "XNz_LXye0jbm"
      },
      "source": [
        "# Part C – Implementation <a name=\"part-c\"></a>"
      ]
    },
    {
      "cell_type": "markdown",
      "metadata": {
        "id": "dgRC5P9Y1E6-"
      },
      "source": [
        "This cell includes the import statements for the required libraries: matplotlib for plotting, numpy for numerical operations, and heapq for the priority queue used in the A* algorithm. random is imported for generating random obstacle positions."
      ]
    },
    {
      "cell_type": "code",
      "execution_count": null,
      "metadata": {},
      "outputs": [],
      "source": [
        "#!pip install matplotlib\n",
        "#!pip install numpy\n",
        "#!pip install noise\n"
      ]
    },
    {
      "cell_type": "code",
      "execution_count": 1,
      "metadata": {
        "id": "dG8_H-VL012O"
      },
      "outputs": [],
      "source": [
        "# Import necessary libraries\n",
        "# for section 1\n",
        "import matplotlib.pyplot as plt\n",
        "import numpy as np\n",
        "from heapq import heappop, heappush\n",
        "import random\n",
        "import time  # Import the time module\n",
        "\n",
        "# for section 2\n",
        "import noise\n",
        "from matplotlib.colors import ListedColormap\n",
        "from IPython.display import display, HTML\n",
        "from matplotlib.animation import FuncAnimation\n"
      ]
    },
    {
      "cell_type": "markdown",
      "metadata": {},
      "source": [
        "## Section 1 Weighted and Non Weighted Pathfinding With A star Algoritm to Navigate a Maze"
      ]
    },
    {
      "cell_type": "markdown",
      "metadata": {
        "id": "K-aUfM8M0-Wg"
      },
      "source": [
        "This cell defines the A* pathfinding algorithm with helper functions: neighbors, heuristic, and reconstruct_path. The A* algorithm is used to find the optimal path from the start point to the goal on a grid with obstacles."
      ]
    },
    {
      "cell_type": "code",
      "execution_count": 34,
      "metadata": {},
      "outputs": [],
      "source": [
        "# Define the A* pathfinding algorithm with least steps priority\n",
        "def astar_least_steps(start, goal, grid):\n",
        "    rows, cols = len(grid), len(grid[0])\n",
        "    open_set = [(0, start)]\n",
        "    came_from = {}\n",
        "    cost_so_far = {start: 0}\n",
        "    all_paths = []  # Track all paths explored\n",
        "    path = []  # Initialize the path variable\n",
        "    iterations = 0  # Counter for iterations taken\n",
        "\n",
        "    while open_set:\n",
        "        current_cost, current_node = heappop(open_set)\n",
        "        iterations += 1  # Increment the iteration counter\n",
        "\n",
        "        for neighbor in neighbors(current_node, rows, cols, grid):\n",
        "            new_cost = cost_so_far[current_node] + 1  # Each step has a cost of 1\n",
        "\n",
        "            if neighbor not in cost_so_far or new_cost < cost_so_far[neighbor]:\n",
        "                cost_so_far[neighbor] = new_cost\n",
        "                priority = len(path)  # Prioritize fewer steps\n",
        "                heappush(open_set, (priority, neighbor))\n",
        "                came_from[neighbor] = current_node\n",
        "                path = reconstruct_path(came_from, start, neighbor)  # Update the path\n",
        "\n",
        "        if current_node == goal:\n",
        "            # Store the full path\n",
        "            path = reconstruct_path(came_from, start, goal)\n",
        "            all_paths.append(path)\n",
        "\n",
        "    if all_paths:\n",
        "        # Find the shortest path among all explored paths\n",
        "        shortest_path = min(all_paths, key=len)\n",
        "        print(\"------------------------------ Shortest Path ----------------------------------\")\n",
        "        print(f\"Number of iterations: {iterations}\")\n",
        "        print(f\"Number of steps: {len(shortest_path) - 1}\")  # Subtract 1 to get the number of steps\n",
        "        print(\"-------------------------------------------------------------------------------\")\n",
        "        return shortest_path, all_paths\n",
        "    else:\n",
        "        print(\"No path found.\")\n",
        "        return [], all_paths\n",
        "\n"
      ]
    },
    {
      "cell_type": "code",
      "execution_count": 3,
      "metadata": {
        "id": "dOYYfdcP1Muu"
      },
      "outputs": [],
      "source": [
        "# Define the A* pathfinding algorithm with weights\n",
        "def astar(start, goal, grid):\n",
        "    rows, cols = len(grid), len(grid[0])\n",
        "    open_set = [(0, start)]\n",
        "    came_from = {}\n",
        "    cost_so_far = {start: 0}\n",
        "    weights_along_path = {start: [grid[start[0], start[1]]]}  # Track weights along the path\n",
        "    all_paths = []  # Track all paths explored\n",
        "    iterations = 0  # Counter for iterations taken\n",
        "\n",
        "    while open_set:\n",
        "        current_cost, current_node = heappop(open_set)\n",
        "        iterations += 1  # Increment the iteration counter\n",
        "\n",
        "        if current_node == goal:\n",
        "            # Store the full path\n",
        "            path = reconstruct_path(came_from, start, goal)\n",
        "            all_paths.append(path)\n",
        "\n",
        "            # Print weights along the path before returning\n",
        "            total_cost = sum(random_numbers[node[0], node[1]] for node in path)  # Calculate total cost\n",
        "            weights_str = \" + \".join(map(str, weights_along_path[goal]))\n",
        "            \n",
        "            print(\"-------------------------- Shortest Path Weighted -----------------------------\")\n",
        "            print(f\"Number of iterations: {iterations}\")\n",
        "            # Count the steps from start to goal\n",
        "            num_steps = len(path) - 1\n",
        "            print(f\"Number of steps: {num_steps}\")\n",
        "            # print(f'Total cost = {weights_str}  \\n           = {total_cost}')  #uncomment for full math output\n",
        "            print(f'Total cost = {total_cost}')\n",
        "            print(\"-------------------------------------------------------------------------------\")\n",
        "            \n",
        "            return path, total_cost, weights_along_path, all_paths\n",
        "\n",
        "        for neighbor in neighbors(current_node, rows, cols, grid):\n",
        "            weight = random_numbers[neighbor[0], neighbor[1]]  # Use weights from random_numbers\n",
        "            new_cost = cost_so_far[current_node] + weight\n",
        "\n",
        "            if neighbor not in cost_so_far or new_cost < cost_so_far[neighbor]:\n",
        "                cost_so_far[neighbor] = new_cost\n",
        "                priority = new_cost + heuristic(goal, neighbor)\n",
        "                heappush(open_set, (priority, neighbor))\n",
        "                came_from[neighbor] = current_node\n",
        "                # Update weights along the path\n",
        "                weights_along_path[neighbor] = weights_along_path[current_node] + [weight]\n",
        "                iterations += 1  # Increment the iteration counter for each movement\n",
        "\n",
        "    # If the goal is not reached, return an empty path\n",
        "    print(\"No path found.\")\n",
        "    return [], float('inf'), {}, all_paths\n",
        "\n",
        "\n"
      ]
    },
    {
      "cell_type": "markdown",
      "metadata": {
        "id": "ZGdi-VYf1PQV"
      },
      "source": [
        "This cell defines the neighbors function, which returns the valid neighboring nodes for a given node on the grid. It considers the boundaries and obstacles in the grid."
      ]
    },
    {
      "cell_type": "code",
      "execution_count": 4,
      "metadata": {
        "id": "JhOoxZOF1S5N"
      },
      "outputs": [],
      "source": [
        "# Define helper function to get neighboring nodes\n",
        "def neighbors(node, rows, cols, grid):\n",
        "    row, col = node\n",
        "    neighbors = []\n",
        "    if row > 0 and grid[row - 1, col] == 0:\n",
        "        neighbors.append((row - 1, col))\n",
        "    if row < rows - 1 and grid[row + 1, col] == 0:\n",
        "        neighbors.append((row + 1, col))\n",
        "    if col > 0 and grid[row, col - 1] == 0:\n",
        "        neighbors.append((row, col - 1))\n",
        "    if col < cols - 1 and grid[row, col + 1] == 0:\n",
        "        neighbors.append((row, col + 1))\n",
        "    return neighbors\n"
      ]
    },
    {
      "cell_type": "markdown",
      "metadata": {
        "id": "_C-QSH6H1Xj9"
      },
      "source": [
        "This cell defines the heuristic function used in the A* algorithm. The heuristic estimates the cost from a given node to the goal."
      ]
    },
    {
      "cell_type": "code",
      "execution_count": 5,
      "metadata": {
        "id": "NtHGLA5q1Zu9"
      },
      "outputs": [],
      "source": [
        "# Define heuristic function for A*\n",
        "def heuristic(a, b):\n",
        "    return abs(a[0] - b[0]) + abs(a[1] - b[1])\n"
      ]
    },
    {
      "cell_type": "markdown",
      "metadata": {
        "id": "8gKJkGhz1frN"
      },
      "source": [
        "This cell defines the reconstruct_path function, which reconstructs the optimal path from the came_from dictionary generated during the A* search."
      ]
    },
    {
      "cell_type": "code",
      "execution_count": 6,
      "metadata": {
        "id": "8JldYJwl1gnm"
      },
      "outputs": [],
      "source": [
        "# Define function to reconstruct the path from start to goal\n",
        "def reconstruct_path(came_from, start, goal):\n",
        "    current = goal\n",
        "    path = [current]\n",
        "    while current != start:\n",
        "        current = came_from[current]\n",
        "        path.append(current)\n",
        "    path.reverse()\n",
        "    return path\n"
      ]
    },
    {
      "cell_type": "markdown",
      "metadata": {
        "id": "3JYR9cj71jwt"
      },
      "source": [
        "This cell initializes the game environment by creating a grid with a specified size and adding random obstacles to the grid based on the given density."
      ]
    },
    {
      "cell_type": "code",
      "execution_count": null,
      "metadata": {
        "id": "9qJ8iIM01me_"
      },
      "outputs": [],
      "source": [
        "# Define the game environment with random obstacles\n",
        "grid_size = (30, 30)  # Increase the grid size\n",
        "obstacle_density = 0.3  # Adjust the obstacle density as needed\n",
        "grid = np.zeros(grid_size)\n",
        "random_numbers = np.zeros(grid_size)  # Store random numbers for each cell\n",
        "\n",
        "# Add random obstacles and numbers to the grid\n",
        "for i in range(grid_size[0]):\n",
        "    for j in range(grid_size[1]):\n",
        "        if random.random() < obstacle_density:\n",
        "            grid[i, j] = 1\n",
        "        else:\n",
        "            random_numbers[i, j] = random.randint(1, 100)\n",
        "\n",
        "# Visualize the grid with obstacles and numbers\n",
        "plt.figure(figsize=(11, 11))  # Adjust the figure size\n",
        "plt.imshow(grid, cmap='gray', origin='upper', interpolation='none', vmin=0, vmax=1)\n",
        "\n",
        "# Mark the start and goal points (optional)\n",
        "start_point = (0, 0)\n",
        "goal_point = (grid_size[0] - 1, grid_size[1] - 1)\n",
        "\n",
        "# Mark the start and goal points\n",
        "plt.scatter(*start_point, color='green', marker='o', s=100, label='Start')\n",
        "plt.scatter(*goal_point, color='red', marker='x', s=100, label='Goal')\n",
        "\n",
        "# Add random numbers as text on each walkable box\n",
        "for i in range(grid_size[0]):\n",
        "    for j in range(grid_size[1]):\n",
        "        if grid[i, j] == 0:\n",
        "            plt.text(j, i, str(int(random_numbers[i, j])), ha='center', va='center', color='white')\n",
        "\n",
        "# Hide only the ticks and tick labels\n",
        "plt.tick_params(axis='both', which='both', bottom=False, top=False, left=False, right=False, labelbottom=False, labelleft=False)\n",
        "\n",
        "plt.title('Game Environment with Random Obstacles and Weights')\n",
        "plt.show()\n"
      ]
    },
    {
      "cell_type": "markdown",
      "metadata": {
        "id": "t26rgAIb1wI2"
      },
      "source": [
        "This cell calls the A* algorithm to find the optimal path from the start to the goal in the defined grid."
      ]
    },
    {
      "cell_type": "code",
      "execution_count": null,
      "metadata": {
        "id": "u7fc2Tir10Ne"
      },
      "outputs": [],
      "source": [
        "# Find both the weighted and non-weighted optimal paths using A*\n",
        "shortest_path_least_steps, _ = astar_least_steps(start_point, goal_point, grid)\n",
        "weighted_optimal_path, _, _, _ = astar(start_point, goal_point, grid)"
      ]
    },
    {
      "cell_type": "markdown",
      "metadata": {
        "id": "Vrz_luoC17_u"
      },
      "source": [
        "This cell visualizes the grid, the start and goal points, and the optimal path using Matplotlib. The figure size is adjusted for better visibility. Green represents the start point, red represents the goal point, and blue represents the optimal path on the grid with obstacles."
      ]
    },
    {
      "cell_type": "code",
      "execution_count": null,
      "metadata": {
        "colab": {
          "base_uri": "https://localhost:8080/",
          "height": 1000
        },
        "id": "t134BxoK19OW",
        "outputId": "56da4cf4-8acd-4791-fde5-6c1c2a22afa1"
      },
      "outputs": [],
      "source": [
        "# Cell 8\n",
        "# Visualize the grid and the optimal paths with adjusted figure size\n",
        "plt.figure(figsize=(11, 11))  # Adjust the figure size\n",
        "plt.imshow(grid, cmap='gray', origin='upper', interpolation='none', vmin=0, vmax=1)\n",
        "\n",
        "# Mark the start and goal points\n",
        "plt.scatter(*start_point, color='green', marker='o', s=100, label='Start')\n",
        "plt.scatter(*goal_point, color='red', marker='x', s=100, label='Goal')\n",
        "\n",
        "# Plot the shortest path with least steps in yellow\n",
        "shortest_path_least_steps_x, shortest_path_least_steps_y = zip(*shortest_path_least_steps)\n",
        "plt.plot(shortest_path_least_steps_y, shortest_path_least_steps_x, color='aqua', linewidth=2, label='Shortest Path with Least Steps')\n",
        "\n",
        "# Plot the weighted optimal path in blue\n",
        "optimal_path_x, optimal_path_y = zip(*weighted_optimal_path)\n",
        "plt.plot(optimal_path_y, optimal_path_x, color='red', linestyle='dotted', linewidth=2, label='Weighted Shortest Path')\n",
        "\n",
        "# Add random numbers as text on each walkable box using stored values\n",
        "for i in range(grid_size[0]):\n",
        "    for j in range(grid_size[1]):\n",
        "        if grid[i, j] == 0:\n",
        "            plt.text(j, i, str(int(random_numbers[i, j])), ha='center', va='center', color='white')\n",
        "\n",
        "# Hide only the ticks and tick labels\n",
        "plt.tick_params(axis='both', which='both', bottom=False, top=False, left=False, right=False, labelbottom=False, labelleft=False)\n",
        "\n",
        "\n",
        "plt.legend()\n",
        "plt.title('A* Pathfinding Algorithm with Random Obstacles and Weights')\n",
        "plt.show()\n",
        "\n",
        "\n"
      ]
    },
    {
      "cell_type": "markdown",
      "metadata": {},
      "source": [
        "## Section 2"
      ]
    },
    {
      "cell_type": "code",
      "execution_count": 62,
      "metadata": {},
      "outputs": [],
      "source": [
        "# Define the A* pathfinding algorithm for Perlin noise-based terrain\n",
        "def astar_terrain(start, goal, terrain):\n",
        "    rows, cols = terrain.shape\n",
        "    open_set = [(0, start)]\n",
        "    came_from = {}\n",
        "    cost_so_far = {start: 0}\n",
        "    weights_along_path = {start: [terrain[start[0], start[1]]]}  # Track weights along the path\n",
        "    all_paths = []  # Track all paths explored\n",
        "    iterations = 0  # Counter for iterations taken\n",
        "    \n",
        "    # Record the start time\n",
        "    start_time = time.time()\n",
        "    \n",
        "    while open_set:\n",
        "        current_cost, current_node = heappop(open_set)\n",
        "        iterations += 1  # Increment the iteration counter\n",
        "\n",
        "        if current_node == goal:\n",
        "            # Store the full path\n",
        "            path = reconstruct_path(came_from, start, goal)\n",
        "            all_paths.append(path)\n",
        "\n",
        "            # Print weights along the path before returning\n",
        "            total_cost = sum(terrain[node[0], node[1]] for node in path)  # Calculate total cost\n",
        "            weights_str = \" + \".join(map(str, weights_along_path[goal]))\n",
        "            \n",
        "            grass_count = weights_along_path[goal].count(1)\n",
        "            sand_count = weights_along_path[goal].count(2)\n",
        "            water_count = weights_along_path[goal].count(3)\n",
        "\n",
        "            # Record the end time\n",
        "            end_time = time.time()\n",
        "\n",
        "            # Calculate the total time taken\n",
        "            total_time = end_time - start_time\n",
        "            formatted_time = format_time(total_time)\n",
        "            print(\"--------------------- Shortest Path on Terrain ----------------------\")\n",
        "            print(f\"Number of iterations: {iterations}\")\n",
        "            print(f\"Time taken: {formatted_time} seconds\")\n",
        "            num_steps = len(path) - 1\n",
        "            print(f\"Number of steps: {num_steps}           [This does not Include the Start Tile!]\")\n",
        "            print(f\"Number of grass tiles: {grass_count}\")\n",
        "            print(f\"Number of sand tiles: {sand_count}\")\n",
        "            print(f\"Number of water tiles: {water_count}\")\n",
        "            print(f'Total cost = {total_cost}')\n",
        "            print(\"-----------------------------------------------------------------------\")\n",
        "\n",
        "            return path, total_cost, weights_along_path, all_paths\n",
        "\n",
        "        for neighbor in terraneighbors(current_node, rows, cols, terrain):  # Change this line\n",
        "            weight = terrain[neighbor[0], neighbor[1]]  # Use weights from terrain\n",
        "            new_cost = cost_so_far[current_node] + weight\n",
        "\n",
        "            if neighbor not in cost_so_far or new_cost < cost_so_far[neighbor]:\n",
        "                cost_so_far[neighbor] = new_cost\n",
        "                priority = new_cost + heuristic(current_node, goal)  # Update priority calculation\n",
        "                heappush(open_set, (priority, neighbor))\n",
        "                came_from[neighbor] = current_node\n",
        "                # Update weights along the path\n",
        "                weights_along_path[neighbor] = weights_along_path[current_node] + [weight]\n",
        "\n",
        "    # If the goal is not reached, return an empty path\n",
        "    print(\"No path found.\")\n",
        "    return [], float('inf'), {}, all_paths"
      ]
    },
    {
      "cell_type": "code",
      "execution_count": 12,
      "metadata": {},
      "outputs": [],
      "source": [
        "# Define helper function to get neighboring nodes\n",
        "def terraneighbors(node, rows, cols, terrain):\n",
        "    row, col = node\n",
        "    neighbors = []\n",
        "    if row > 0 and terrain[row - 1, col] in [1, 2, 3]:\n",
        "        neighbors.append((row - 1, col))\n",
        "    if row < rows - 1 and terrain[row + 1, col] in [1, 2, 3]:\n",
        "        neighbors.append((row + 1, col))\n",
        "    if col > 0 and terrain[row, col - 1] in [1, 2, 3]:\n",
        "        neighbors.append((row, col - 1))\n",
        "    if col < cols - 1 and terrain[row, col + 1] in [1, 2, 3]:\n",
        "        neighbors.append((row, col + 1))\n",
        "    return neighbors\n"
      ]
    },
    {
      "cell_type": "code",
      "execution_count": 13,
      "metadata": {},
      "outputs": [],
      "source": [
        "def format_time(duration):\n",
        "    milliseconds = int(duration * 1000)\n",
        "    seconds, milliseconds = divmod(milliseconds, 1000)\n",
        "    minutes, seconds = divmod(seconds, 60)\n",
        "    hours, minutes = divmod(minutes, 60)\n",
        "\n",
        "    return f\"{hours:02d}:{minutes:02d}:{seconds:02d}.{milliseconds:03d}\""
      ]
    },
    {
      "cell_type": "code",
      "execution_count": 63,
      "metadata": {},
      "outputs": [],
      "source": [
        "# Function to generate 2D Perlin noise\n",
        "def generate_perlin_noise(shape, scale=100.0, octaves=6, persistence=0.5, lacunarity=2.0, seed=None):\n",
        "    world = np.zeros(shape)\n",
        "    for i in range(shape[0]):\n",
        "        for j in range(shape[1]):\n",
        "            world[i][j] = noise.pnoise2(i/scale,\n",
        "                                        j/scale,\n",
        "                                        octaves=octaves,\n",
        "                                        persistence=persistence,\n",
        "                                        lacunarity=lacunarity,\n",
        "                                        repeatx=1024,\n",
        "                                        repeaty=1024,\n",
        "                                        base=seed)\n",
        "    return world"
      ]
    },
    {
      "cell_type": "code",
      "execution_count": null,
      "metadata": {},
      "outputs": [],
      "source": [
        "# Define the terrain with three colors: blue (water), green (grass), yellow (sand)\n",
        "grid_size = (50, 50)  # Adjust the grid size as needed\n",
        "terrain_density = [0.4, 0.3, 0.3]  # Adjust the density for each color\n",
        "\n",
        "# Generate 2D Perlin noise for the terrain with the random seed\n",
        "terrain_noise = generate_perlin_noise(grid_size, scale=10.0, octaves=6, persistence=0.5, lacunarity=2.0, seed=random.randint(0, 1000))\n",
        "\n",
        "# Normalize the noise values to be between 0 and 1\n",
        "terrain_noise = (terrain_noise - np.min(terrain_noise)) / (np.max(terrain_noise) - np.min(terrain_noise))\n",
        "\n",
        "# Categorize the terrain based on noise values and density\n",
        "terrain = np.zeros(grid_size, dtype=int)\n",
        "for i in range(grid_size[0]):\n",
        "    for j in range(grid_size[1]):\n",
        "        if terrain_noise[i, j] < terrain_density[0]:\n",
        "            terrain[i, j] = 3  # Water\n",
        "        elif terrain_noise[i, j] < terrain_density[0] + terrain_density[1]:\n",
        "            terrain[i, j] = 1  # Grass\n",
        "        else:\n",
        "            terrain[i, j] = 2  # Sand\n",
        "\n",
        "# Visualize the terrain with custom colormap\n",
        "plt.figure(figsize=(10, 10))  # Adjust the figure size\n",
        "\n",
        "# Define custom colormap for water, grass, and sand\n",
        "colors_terrain = ['green', 'orange', 'blue']\n",
        "custom_cmap_terrain = ListedColormap(colors_terrain)\n",
        "\n",
        "# Create a custom normalization for the colormap\n",
        "norm = plt.Normalize(1, 3)\n",
        "\n",
        "# Create a color array for the terrain using the colormap and normalization\n",
        "terrain_color = custom_cmap_terrain(norm(terrain))\n",
        "\n",
        "# Display the terrain with the custom colormap\n",
        "plt.imshow(terrain_color, origin='upper', interpolation='none', vmin=1, vmax=3)\n",
        "\n",
        "# Mark the start and goal points (optional)\n",
        "start_point_terrain = (0, 0)\n",
        "goal_point_terrain = (grid_size[0] - 1, grid_size[1] - 1)\n",
        "\n",
        "# Mark the start and goal points\n",
        "plt.scatter(*start_point_terrain, color='red', marker='o', s=50, label='Start')\n",
        "plt.scatter(*goal_point_terrain, color='red', marker='x', s=80, label='Goal')\n",
        "\n",
        "# Add weights as text on each walkable box using stored values\n",
        "for i in range(grid_size[0]):\n",
        "    for j in range(grid_size[1]):\n",
        "        weight = 3 if terrain[i, j] == 3 else 1 if terrain[i, j] == 1 else 2  # Water has weight 3, Grass has weight 1, Sand has weight 2\n",
        "        plt.text(j, i, str(weight), ha='center', va='center', color='white')\n",
        "\n",
        "# Hide only the ticks and tick labels\n",
        "plt.tick_params(axis='both', which='both', bottom=False, top=False, left=False, right=False, labelbottom=False, labelleft=False)\n",
        "\n",
        "plt.title('Game Environment with Perlin Noise-based Terrain and Weights')\n",
        "plt.show()\n"
      ]
    },
    {
      "cell_type": "code",
      "execution_count": null,
      "metadata": {},
      "outputs": [],
      "source": [
        "# Find the optimal path on Perlin noise-based terrain using A*\n",
        "terrain_optimal_path, _, _, _ = astar_terrain(start_point_terrain, goal_point_terrain, terrain)"
      ]
    },
    {
      "cell_type": "code",
      "execution_count": null,
      "metadata": {},
      "outputs": [],
      "source": [
        "# Visualize the terrain and the optimal path with adjusted figure size\n",
        "plt.figure(figsize=(8, 8))  # Adjust the figure size\n",
        "\n",
        "# Define custom colormap for water, grass, and sand\n",
        "colors_terrain = ['green', 'orange', 'blue']\n",
        "custom_cmap_terrain = ListedColormap(colors_terrain)\n",
        "\n",
        "# Create a custom normalization for the colormap\n",
        "norm = plt.Normalize(1, 3)\n",
        "\n",
        "# Create a color array for the terrain using the colormap and normalization\n",
        "terrain_color = custom_cmap_terrain(norm(terrain))\n",
        "\n",
        "# Display the terrain with the custom colormap\n",
        "plt.imshow(terrain_color, origin='upper', interpolation='none', vmin=1, vmax=3)\n",
        "\n",
        "# Define labels for the legend without actually marking the points\n",
        "plt.scatter([], [], color='green', marker='s', s=100, label='Weight = 1 (Grass)')\n",
        "plt.scatter([], [], color='orange', marker='s', s=100, label='Weight = 2 (Sand)')\n",
        "plt.scatter([], [], color='blue', marker='s', s=100, label='Weight = 3 (Water)')\n",
        "\n",
        "# Mark the start and goal points\n",
        "plt.scatter(*start_point_terrain, color='red', marker='o', s=50, label='Start')\n",
        "plt.scatter(*goal_point_terrain, color='red', marker='x', s=80, label='Goal')\n",
        "\n",
        "# Plot the optimal path on Perlin noise-based terrain in yellow\n",
        "optimal_path_terrain_x, optimal_path_terrain_y = zip(*terrain_optimal_path)\n",
        "plt.plot(optimal_path_terrain_y, optimal_path_terrain_x, color='Red', linewidth=2, label='Optimal Path on Terrain')\n",
        "\n",
        "# Hide only the ticks and tick labels\n",
        "plt.tick_params(axis='both', which='both', bottom=False, top=False, left=False, right=False, labelbottom=False, labelleft=False)\n",
        "\n",
        "plt.legend(loc='upper right')\n",
        "\n",
        "\n",
        "\n",
        "plt.title('A* Pathfinding Algorithm on Perlin Noise-based Terrain')\n",
        "plt.show()\n"
      ]
    },
    {
      "cell_type": "markdown",
      "metadata": {},
      "source": [
        "## in Action!"
      ]
    },
    {
      "cell_type": "code",
      "execution_count": null,
      "metadata": {},
      "outputs": [],
      "source": [
        "# Visualize the terrain and the optimal path with an adjusted figure size\n",
        "fig, ax = plt.subplots(figsize=(8, 8))  # Adjust the figure size\n",
        "plt.tight_layout()\n",
        "# Define custom colormap for water, grass, and sand\n",
        "colors_terrain = ['green', 'orange', 'blue']\n",
        "custom_cmap_terrain = ListedColormap(colors_terrain)\n",
        "\n",
        "# Create a custom normalization for the colormap\n",
        "norm = plt.Normalize(1, 3)\n",
        "\n",
        "# Create a color array for the terrain using the colormap and normalization\n",
        "terrain_color = custom_cmap_terrain(norm(terrain))\n",
        "\n",
        "# Display the terrain with the custom colormap\n",
        "im = ax.imshow(terrain_color, origin='upper', interpolation='none', vmin=1, vmax=3)\n",
        "\n",
        "# Define labels for the legend without actually marking the points\n",
        "ax.scatter([], [], color='green', marker='s', s=100, label='Weight = 1 (Grass)')\n",
        "ax.scatter([], [], color='orange', marker='s', s=100, label='Weight = 2 (Sand)')\n",
        "ax.scatter([], [], color='blue', marker='s', s=100, label='Weight = 3 (Water)')\n",
        "\n",
        "# Mark the start and goal points\n",
        "start_marker = ax.scatter(*start_point_terrain, color='red', marker='o', s=50, label='Enemy NPC')\n",
        "ax.scatter(*goal_point_terrain, color='red', marker='*', s=100, label='Player')\n",
        "\n",
        "# Hide only the ticks and tick labels\n",
        "ax.tick_params(axis='both', which='both', bottom=False, top=False, left=False, right=False, labelbottom=False, labelleft=False)\n",
        "\n",
        "# Ensure the legend does not interfere with the animation\n",
        "ax.legend(loc='upper right').set_animated(True)\n",
        "ax.set_title('NPC Moving to Player Loction Using A* Pathfinding Algorithm')\n"
      ]
    },
    {
      "cell_type": "code",
      "execution_count": null,
      "metadata": {},
      "outputs": [],
      "source": [
        "# Initialize the line for the optimal path\n",
        "line, = ax.plot([], [], color='Red', linewidth=2, label='Optimal Path on Terrain')\n",
        "\n",
        "# Function to update the plot at each animation frame\n",
        "def update(frame):\n",
        "    # Update the position of the start point along the path\n",
        "    start_marker.set_offsets((optimal_path_terrain_y[frame], optimal_path_terrain_x[frame]))\n",
        "    return start_marker,\n",
        "\n",
        "# Create the animation\n",
        "animation = FuncAnimation(fig, update, frames=len(optimal_path_terrain_x) - 1, interval=100, repeat=False) # Remove -1 if u want NPC to occupy the same spot as player!\n",
        "\n",
        "# Display the animation in the Jupyter Notebook\n",
        "display(HTML(animation.to_jshtml()))"
      ]
    },
    {
      "cell_type": "markdown",
      "metadata": {},
      "source": [
        "# Part D – Testing <a name=\"part-d\"></a>"
      ]
    },
    {
      "cell_type": "markdown",
      "metadata": {},
      "source": [
        "| No. | Test case  | Expected result |Actual result|Pass / Fail|\n",
        "|----------|----------|----------|----------|----------|\n",
        "| 1| Custom noise | Generates noise using a custom function other than Mathf.PerlinNoise. | Generates noise from a custom Perlin noise function on the GPU | <span style=\"color: Green;\">Pass</span> |\n",
        "| 2 | Row 2, Col 2 | Row 2, Col 3 | Row 1, Col 3 | Row 1, Col 3 |\n",
        "| 2 | Row 3, Col 2 | Row 3, Col 3 | Row 1, Col 3 | Row 1, Col 3 |"
      ]
    },
    {
      "cell_type": "markdown",
      "metadata": {},
      "source": [
        "# Part E – Evaluate results <a name=\"part-e\"></a>"
      ]
    },
    {
      "cell_type": "markdown",
      "metadata": {},
      "source": [
        "# References <a name=\"references\"></a>\n"
      ]
    },
    {
      "cell_type": "markdown",
      "metadata": {},
      "source": [
        "# something try see\n"
      ]
    },
    {
      "cell_type": "code",
      "execution_count": null,
      "metadata": {},
      "outputs": [],
      "source": [
        "# Cell 3: Set start spots as enemy 1, 2, 3, and 4\n",
        "start_points_enemies = [(0, 0), (0, grid_size[1] - 1), (grid_size[0] - 1, 0), (grid_size[0] - 1, grid_size[1] - 1)]\n",
        "\n",
        "# Visualize the terrain with custom colormap and start points for enemies\n",
        "plt.figure(figsize=(11, 11))\n",
        "\n",
        "# Create a color array for the terrain using the colormap and normalization\n",
        "terrain_color = custom_cmap_terrain(norm(terrain))\n",
        "\n",
        "# Display the terrain with the custom colormap\n",
        "plt.imshow(terrain_color, origin='upper', interpolation='none', vmin=1, vmax=3)\n",
        "\n",
        "# Mark the start points for enemies\n",
        "for i, start_point_enemy in enumerate(start_points_enemies, start=1):\n",
        "    plt.scatter(*start_point_enemy, color='red', marker='o', s=100, label=f'Enemy {i}')\n",
        "\n",
        "# Mark the goal point for the player (randomly placed)\n",
        "goal_point_player = (np.random.randint(grid_size[0]), np.random.randint(grid_size[1]))\n",
        "plt.scatter(*goal_point_player, color='red', marker='x', s=100, label='Player')\n",
        "\n",
        "# Add weights as text on each walkable box using stored values\n",
        "for i in range(grid_size[0]):\n",
        "    for j in range(grid_size[1]):\n",
        "        weight = 3 if terrain[i, j] == 3 else 1 if terrain[i, j] == 1 else 2\n",
        "        plt.text(j, i, str(weight), ha='center', va='center', color='white')\n",
        "\n",
        "plt.tick_params(axis='both', which='both', bottom=False, top=False, left=False, right=False, labelbottom=False, labelleft=False)\n",
        "\n",
        "plt.title('Game Environment with Perlin Noise-based Terrain, Enemies, and Player')\n",
        "plt.show()\n",
        "\n",
        "# Cell 4: Find the optimal paths for all enemies to reach the player\n",
        "optimal_paths_enemies = []\n",
        "\n",
        "for start_point_enemy in start_points_enemies:\n",
        "    enemy_path, _, _, _ = astar_terrain(start_point_enemy, goal_point_player, terrain)\n",
        "    optimal_paths_enemies.append(enemy_path)\n",
        "\n",
        "# Visualize the terrain, start points for enemies, and the optimal paths\n",
        "plt.figure(figsize=(10, 10))\n",
        "\n",
        "# Display the terrain with the custom colormap\n",
        "plt.imshow(terrain_color, origin='upper', interpolation='none', vmin=1, vmax=3)\n",
        "\n",
        "# Mark the start points for enemies\n",
        "for i, start_point_enemy in enumerate(start_points_enemies, start=1):\n",
        "    plt.scatter(*start_point_enemy, color='red', marker='o', s=100, label=f'Enemy {i}')\n",
        "\n",
        "# Mark the goal point for the player\n",
        "plt.scatter(*goal_point_player, color='red', marker='x', s=100, label='Player')\n",
        "\n",
        "# Plot the optimal paths for enemies to reach the player\n",
        "for i, optimal_path_enemy in enumerate(optimal_paths_enemies, start=1):\n",
        "    optimal_path_enemy_x, optimal_path_enemy_y = zip(*optimal_path_enemy)\n",
        "    plt.plot(optimal_path_enemy_y, optimal_path_enemy_x, linewidth=2, label=f'Enemy {i} Path')\n",
        "\n",
        "plt.tick_params(axis='both', which='both', bottom=False, top=False, left=False, right=False, labelbottom=False, labelleft=False)\n",
        "\n",
        "plt.legend(loc='upper right')\n",
        "plt.title('A* Pathfinding for Enemies to Reach the Player')\n",
        "plt.show()\n"
      ]
    }
  ],
  "metadata": {
    "colab": {
      "provenance": []
    },
    "kernelspec": {
      "display_name": "Python 3",
      "name": "python3"
    },
    "language_info": {
      "codemirror_mode": {
        "name": "ipython",
        "version": 3
      },
      "file_extension": ".py",
      "mimetype": "text/x-python",
      "name": "python",
      "nbconvert_exporter": "python",
      "pygments_lexer": "ipython3",
      "version": "3.11.5"
    }
  },
  "nbformat": 4,
  "nbformat_minor": 0
}
