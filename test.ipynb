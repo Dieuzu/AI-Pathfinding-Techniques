{
 "cells": [
  {
   "cell_type": "code",
   "execution_count": 1,
   "metadata": {},
   "outputs": [],
   "source": [
    "import numpy as np\n",
    "import matplotlib.pyplot as plt\n",
    "from matplotlib.colors import ListedColormap\n",
    "import noise\n",
    "import random\n",
    "from heapq import heappop, heappush\n",
    "\n",
    "# Function to generate 2D Perlin noise\n",
    "def generate_perlin_noise(shape, scale=100.0, octaves=6, persistence=0.5, lacunarity=2.0, seed=None):\n",
    "    world = np.zeros(shape)\n",
    "    for i in range(shape[0]):\n",
    "        for j in range(shape[1]):\n",
    "            world[i][j] = noise.pnoise2(i/scale,\n",
    "                                        j/scale,\n",
    "                                        octaves=octaves,\n",
    "                                        persistence=persistence,\n",
    "                                        lacunarity=lacunarity,\n",
    "                                        repeatx=1024,\n",
    "                                        repeaty=1024,\n",
    "                                        base=seed)\n",
    "    return world\n"
   ]
  },
  {
   "cell_type": "code",
   "execution_count": 2,
   "metadata": {},
   "outputs": [],
   "source": [
    "# Define the terrain with three colors: blue (water), green (grass), yellow (sand)\n",
    "grid_size = (50, 50)  # Increase the grid size\n",
    "terrain_density = [0.4, 0.3, 0.3]  # Adjust the density for each color\n",
    "\n",
    "# Generate a random seed\n",
    "seed = random.randint(0, 1000)\n",
    "\n",
    "# Generate 2D Perlin noise for the terrain with the random seed\n",
    "terrain_noise = generate_perlin_noise(grid_size, scale=10.0, octaves=6, persistence=0.5, lacunarity=2.0, seed=seed)\n",
    "\n",
    "# Normalize the noise values to be between 0 and 1\n",
    "terrain_noise = (terrain_noise - np.min(terrain_noise)) / (np.max(terrain_noise) - np.min(terrain_noise))\n",
    "\n",
    "# Categorize the terrain based on noise values and density\n",
    "terrain = np.zeros(grid_size, dtype=int)\n",
    "for i in range(grid_size[0]):\n",
    "    for j in range(grid_size[1]):\n",
    "        if terrain_noise[i, j] < terrain_density[0]:\n",
    "            terrain[i, j] = 0  # Blue (Water)\n",
    "        elif terrain_noise[i, j] < terrain_density[0] + terrain_density[1]:\n",
    "            terrain[i, j] = 1  # Green (Grass)\n",
    "        else:\n",
    "            terrain[i, j] = 2  # Yellow (Sand)\n",
    "\n",
    "# Assign weights to terrain types\n",
    "water_weight = 3\n",
    "grass_weight = 1\n",
    "sand_weight = 2\n",
    "\n",
    "for i in range(grid_size[0]):\n",
    "    for j in range(grid_size[1]):\n",
    "        if terrain[i, j] == 0:  # Water\n",
    "            terrain[i, j] = water_weight\n",
    "        elif terrain[i, j] == 1:  # Grass\n",
    "            terrain[i, j] = grass_weight\n",
    "        else:  # Sand\n",
    "            terrain[i, j] = sand_weight\n"
   ]
  },
  {
   "cell_type": "code",
   "execution_count": 7,
   "metadata": {},
   "outputs": [
    {
     "data": {
      "image/png": "[encoded data removed]",
      "text/plain": [
       "<Figure size 1000x1000 with 1 Axes>"
      ]
     },
     "metadata": {},
     "output_type": "display_data"
    }
   ],
   "source": [
    "# Define custom colormap for blue, green, and yellow\n",
    "colors = ['blue', 'green', 'orange']\n",
    "custom_cmap = ListedColormap(colors)\n",
    "\n",
    "# Visualize the terrain with custom colormap\n",
    "plt.figure(figsize=(10, 10))\n",
    "plt.imshow(terrain, cmap=custom_cmap, origin='upper', interpolation='none', vmin=0, vmax=3)\n",
    "\n",
    "plt.tick_params(axis='both', which='both', bottom=False, top=False, left=False, right=False, labelbottom=False, labelleft=False)\n",
    "\n",
    "plt.title('2D Terrain Map with Blue (Water), Green (Grass), and Yellow (Sand) using Perlin Noise')\n",
    "plt.show()\n"
   ]
  },
  {
   "cell_type": "code",
   "execution_count": 8,
   "metadata": {},
   "outputs": [],
   "source": [
    "def astar_with_weights(start, goal, grid):\n",
    "    rows, cols = len(grid), len(grid[0])\n",
    "    open_set = [(0, start)]\n",
    "    came_from = {}\n",
    "    cost_so_far = {start: 0}\n",
    "    weights_along_path = {start: [grid[start[0], start[1]]]}\n",
    "    all_paths = []\n",
    "    iterations = 0\n",
    "\n",
    "    while open_set:\n",
    "        current_cost, current_node = heappop(open_set)\n",
    "        iterations += 1\n",
    "\n",
    "        if current_node == goal:\n",
    "            path = reconstruct_path(came_from, start, goal)\n",
    "            all_paths.append(path)\n",
    "\n",
    "            total_cost = sum(grid[node[0], node[1]] for node in path)\n",
    "            weights_str = \" + \".join(map(str, weights_along_path[goal]))\n",
    "\n",
    "            print(\"-------------------------- Shortest Path Weighted -----------------------------\")\n",
    "            print(f\"Number of iterations: {iterations}\")\n",
    "            num_steps = len(path) - 1\n",
    "            print(f\"Number of steps: {num_steps}\")\n",
    "            print(f'Total cost = {total_cost}')\n",
    "            print(\"-------------------------------------------------------------------------------\")\n",
    "\n",
    "            return path, total_cost, weights_along_path, all_paths\n",
    "\n",
    "        for neighbor in neighbors(current_node, rows, cols, grid):\n",
    "            weight = grid[neighbor[0], neighbor[1]]\n",
    "            new_cost = cost_so_far[current_node] + weight\n",
    "\n",
    "            if neighbor not in cost_so_far or new_cost < cost_so_far[neighbor]:\n",
    "                cost_so_far[neighbor] = new_cost\n",
    "                priority = new_cost + heuristic(goal, neighbor)\n",
    "                heappush(open_set, (priority, neighbor))\n",
    "                came_from[neighbor] = current_node\n",
    "                weights_along_path[neighbor] = weights_along_path[current_node] + [weight]\n",
    "                iterations += 1\n",
    "\n",
    "    print(\"No path found.\")\n",
    "    return [], float('inf'), {}, all_paths\n"
   ]
  },
  {
   "cell_type": "code",
   "execution_count": 9,
   "metadata": {},
   "outputs": [],
   "source": [
    "def neighbors(node, rows, cols, grid):\n",
    "    row, col = node\n",
    "    neighbors = []\n",
    "    if row > 0 and grid[row - 1, col] == 0:\n",
    "        neighbors.append((row - 1, col))\n",
    "    if row < rows - 1 and grid[row + 1, col] == 0:\n",
    "        neighbors.append((row + 1, col))\n",
    "    if col > 0 and grid[row, col - 1] == 0:\n",
    "        neighbors.append((row, col - 1))\n",
    "    if col < cols - 1 and grid[row, col + 1] == 0:\n",
    "        neighbors.append((row, col + 1))\n",
    "    return neighbors\n",
    "\n",
    "def heuristic(a, b):\n",
    "    return abs(a[0] - b[0]) + abs(a[1] - b[1])\n",
    "\n",
    "def reconstruct_path(came_from, start, goal):\n",
    "    current = goal\n",
    "    path = [current]\n",
    "    while current != start:\n",
    "        current = came_from[current]\n",
    "        path.append(current)\n",
    "    path.reverse()\n",
    "    return path\n"
   ]
  },
  {
   "cell_type": "code",
   "execution_count": 11,
   "metadata": {},
   "outputs": [
    {
     "ename": "NameError",
     "evalue": "name 'grid' is not defined",
     "output_type": "error",
     "traceback": [
      "\u001b[1;31m---------------------------------------------------------------------------\u001b[0m",
      "\u001b[1;31mNameError\u001b[0m                                 Traceback (most recent call last)",
      "\u001b[1;32md:\\GIT_Repos\\applieda-ai-cw1\\test.ipynb Cell 6\u001b[0m line \u001b[0;36m3\n\u001b[0;32m      <a href='vscode-notebook-cell:/d%3A/GIT_Repos/applieda-ai-cw1/test.ipynb#W5sZmlsZQ%3D%3D?line=0'>1</a>\u001b[0m \u001b[39m# Visualize the grid and the optimal paths with adjusted figure size\u001b[39;00m\n\u001b[0;32m      <a href='vscode-notebook-cell:/d%3A/GIT_Repos/applieda-ai-cw1/test.ipynb#W5sZmlsZQ%3D%3D?line=1'>2</a>\u001b[0m plt\u001b[39m.\u001b[39mfigure(figsize\u001b[39m=\u001b[39m(\u001b[39m11\u001b[39m, \u001b[39m11\u001b[39m))\n\u001b[1;32m----> <a href='vscode-notebook-cell:/d%3A/GIT_Repos/applieda-ai-cw1/test.ipynb#W5sZmlsZQ%3D%3D?line=2'>3</a>\u001b[0m plt\u001b[39m.\u001b[39mimshow(grid, cmap\u001b[39m=\u001b[39m\u001b[39m'\u001b[39m\u001b[39mgray\u001b[39m\u001b[39m'\u001b[39m, origin\u001b[39m=\u001b[39m\u001b[39m'\u001b[39m\u001b[39mupper\u001b[39m\u001b[39m'\u001b[39m, interpolation\u001b[39m=\u001b[39m\u001b[39m'\u001b[39m\u001b[39mnone\u001b[39m\u001b[39m'\u001b[39m, vmin\u001b[39m=\u001b[39m\u001b[39m0\u001b[39m, vmax\u001b[39m=\u001b[39m\u001b[39m3\u001b[39m)\n\u001b[0;32m      <a href='vscode-notebook-cell:/d%3A/GIT_Repos/applieda-ai-cw1/test.ipynb#W5sZmlsZQ%3D%3D?line=4'>5</a>\u001b[0m plt\u001b[39m.\u001b[39mscatter(\u001b[39m*\u001b[39mstart_point, color\u001b[39m=\u001b[39m\u001b[39m'\u001b[39m\u001b[39mgreen\u001b[39m\u001b[39m'\u001b[39m, marker\u001b[39m=\u001b[39m\u001b[39m'\u001b[39m\u001b[39mo\u001b[39m\u001b[39m'\u001b[39m, s\u001b[39m=\u001b[39m\u001b[39m100\u001b[39m, label\u001b[39m=\u001b[39m\u001b[39m'\u001b[39m\u001b[39mStart\u001b[39m\u001b[39m'\u001b[39m)\n\u001b[0;32m      <a href='vscode-notebook-cell:/d%3A/GIT_Repos/applieda-ai-cw1/test.ipynb#W5sZmlsZQ%3D%3D?line=5'>6</a>\u001b[0m plt\u001b[39m.\u001b[39mscatter(\u001b[39m*\u001b[39mgoal_point, color\u001b[39m=\u001b[39m\u001b[39m'\u001b[39m\u001b[39mred\u001b[39m\u001b[39m'\u001b[39m, marker\u001b[39m=\u001b[39m\u001b[39m'\u001b[39m\u001b[39mx\u001b[39m\u001b[39m'\u001b[39m, s\u001b[39m=\u001b[39m\u001b[39m100\u001b[39m, label\u001b[39m=\u001b[39m\u001b[39m'\u001b[39m\u001b[39mGoal\u001b[39m\u001b[39m'\u001b[39m)\n",
      "\u001b[1;31mNameError\u001b[0m: name 'grid' is not defined"
     ]
    },
    {
     "data": {
      "text/plain": [
       "<Figure size 1100x1100 with 0 Axes>"
      ]
     },
     "metadata": {},
     "output_type": "display_data"
    }
   ],
   "source": [
    "# Visualize the grid and the optimal paths with adjusted figure size\n",
    "plt.figure(figsize=(11, 11))\n",
    "plt.imshow(grid, cmap='gray', origin='upper', interpolation='none', vmin=0, vmax=3)\n",
    "\n",
    "plt.scatter(*start_point, color='green', marker='o', s=100, label='Start')\n",
    "plt.scatter(*goal_point, color='red', marker='x', s=100, label='Goal')\n",
    "\n",
    "# Plot the shortest path with least steps in yellow\n",
    "shortest_path_least_steps, _ = astar_with_weights(start_point, goal_point, grid)\n",
    "shortest_path_least_steps_x, shortest_path_least_steps_y = zip(*shortest_path_least_steps)\n",
    "plt.plot(shortest_path_least_steps_y, shortest_path_least_steps_x, color='aqua', linewidth=2, label='Shortest Path with Least Steps')\n",
    "\n",
    "# ... (existing code)\n",
    "\n",
    "plt.legend()\n",
    "plt.title('A* Pathfinding Algorithm with Terrain Weights')\n",
    "plt.show()\n"
   ]
  }
 ],
 "metadata": {
  "kernelspec": {
   "display_name": "base",
   "language": "python",
   "name": "python3"
  },
  "language_info": {
   "codemirror_mode": {
    "name": "ipython",
    "version": 3
   },
   "file_extension": ".py",
   "mimetype": "text/x-python",
   "name": "python",
   "nbconvert_exporter": "python",
   "pygments_lexer": "ipython3",
   "version": "3.11.5"
  }
 },
 "nbformat": 4,
 "nbformat_minor": 2
}
