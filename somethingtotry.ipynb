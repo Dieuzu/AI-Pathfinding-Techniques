{
 "cells": [
  {
   "cell_type": "markdown",
   "metadata": {},
   "source": [
    "# NEEDS OTHER SHIT"
   ]
  },
  {
   "cell_type": "code",
   "execution_count": 2,
   "metadata": {},
   "outputs": [],
   "source": [
    "import matplotlib.pyplot as plt\n",
    "import numpy as np\n",
    "from heapq import heappop, heappush\n",
    "import random\n",
    "import time\n",
    "import noise\n",
    "from matplotlib.colors import ListedColormap\n",
    "from IPython.display import display, HTML\n",
    "from matplotlib.animation import FuncAnimation"
   ]
  },
  {
   "cell_type": "code",
   "execution_count": 4,
   "metadata": {},
   "outputs": [
    {
     "ename": "NameError",
     "evalue": "name 'grid_size' is not defined",
     "output_type": "error",
     "traceback": [
      "\u001b[1;31m---------------------------------------------------------------------------\u001b[0m",
      "\u001b[1;31mNameError\u001b[0m                                 Traceback (most recent call last)",
      "\u001b[1;32mc:\\GitRepos\\applieda-ai-cw1\\somethingtotry.ipynb Cell 2\u001b[0m line \u001b[0;36m2\n\u001b[0;32m      <a href='vscode-notebook-cell:/c%3A/GitRepos/applieda-ai-cw1/somethingtotry.ipynb#W0sZmlsZQ%3D%3D?line=0'>1</a>\u001b[0m \u001b[39m# Cell 3: Set start spots as enemy 1, 2, 3, and 4\u001b[39;00m\n\u001b[1;32m----> <a href='vscode-notebook-cell:/c%3A/GitRepos/applieda-ai-cw1/somethingtotry.ipynb#W0sZmlsZQ%3D%3D?line=1'>2</a>\u001b[0m start_points_enemies \u001b[39m=\u001b[39m [(\u001b[39m0\u001b[39m, \u001b[39m0\u001b[39m), (\u001b[39m0\u001b[39m, grid_size[\u001b[39m1\u001b[39m] \u001b[39m-\u001b[39m \u001b[39m1\u001b[39m), (grid_size[\u001b[39m0\u001b[39m] \u001b[39m-\u001b[39m \u001b[39m1\u001b[39m, \u001b[39m0\u001b[39m), (grid_size[\u001b[39m0\u001b[39m] \u001b[39m-\u001b[39m \u001b[39m1\u001b[39m, grid_size[\u001b[39m1\u001b[39m] \u001b[39m-\u001b[39m \u001b[39m1\u001b[39m)]\n\u001b[0;32m      <a href='vscode-notebook-cell:/c%3A/GitRepos/applieda-ai-cw1/somethingtotry.ipynb#W0sZmlsZQ%3D%3D?line=3'>4</a>\u001b[0m \u001b[39m# Visualize the terrain with custom colormap and start points for enemies\u001b[39;00m\n\u001b[0;32m      <a href='vscode-notebook-cell:/c%3A/GitRepos/applieda-ai-cw1/somethingtotry.ipynb#W0sZmlsZQ%3D%3D?line=4'>5</a>\u001b[0m plt\u001b[39m.\u001b[39mfigure(figsize\u001b[39m=\u001b[39m(\u001b[39m11\u001b[39m, \u001b[39m11\u001b[39m))\n",
      "\u001b[1;31mNameError\u001b[0m: name 'grid_size' is not defined"
     ]
    }
   ],
   "source": [
    "# Cell 3: Set start spots as enemy 1, 2, 3, and 4\n",
    "start_points_enemies = [(0, 0), (0, grid_size[1] - 1), (grid_size[0] - 1, 0), (grid_size[0] - 1, grid_size[1] - 1)]\n",
    "\n",
    "# Visualize the terrain with custom colormap and start points for enemies\n",
    "plt.figure(figsize=(11, 11))\n",
    "\n",
    "# Create a color array for the terrain using the colormap and normalization\n",
    "terrain_color = custom_cmap_terrain(norm(terrain))\n",
    "\n",
    "# Display the terrain with the custom colormap\n",
    "plt.imshow(terrain_color, origin='upper', interpolation='none', vmin=1, vmax=3)\n",
    "\n",
    "# Mark the start points for enemies\n",
    "for i, start_point_enemy in enumerate(start_points_enemies, start=1):\n",
    "    plt.scatter(*start_point_enemy, color='red', marker='o', s=100, label=f'Enemy {i}')\n",
    "\n",
    "# Mark the goal point for the player (randomly placed)\n",
    "goal_point_player = (np.random.randint(grid_size[0]), np.random.randint(grid_size[1]))\n",
    "plt.scatter(*goal_point_player, color='red', marker='x', s=100, label='Player')\n",
    "\n",
    "# Add weights as text on each walkable box using stored values\n",
    "for i in range(grid_size[0]):\n",
    "    for j in range(grid_size[1]):\n",
    "        weight = 3 if terrain[i, j] == 3 else 1 if terrain[i, j] == 1 else 2\n",
    "        plt.text(j, i, str(weight), ha='center', va='center', color='white')\n",
    "\n",
    "plt.tick_params(axis='both', which='both', bottom=False, top=False, left=False, right=False, labelbottom=False, labelleft=False)\n",
    "\n",
    "plt.title('Game Environment with Perlin Noise-based Terrain, Enemies, and Player')\n",
    "plt.show()\n",
    "\n",
    "# Cell 4: Find the optimal paths for all enemies to reach the player\n",
    "optimal_paths_enemies = []\n",
    "\n",
    "for start_point_enemy in start_points_enemies:\n",
    "    enemy_path, _, _, _ = astar_terrain(start_point_enemy, goal_point_player, terrain)\n",
    "    optimal_paths_enemies.append(enemy_path)\n",
    "\n",
    "# Visualize the terrain, start points for enemies, and the optimal paths\n",
    "plt.figure(figsize=(10, 10))\n",
    "\n",
    "# Display the terrain with the custom colormap\n",
    "plt.imshow(terrain_color, origin='upper', interpolation='none', vmin=1, vmax=3)\n",
    "\n",
    "# Mark the start points for enemies\n",
    "for i, start_point_enemy in enumerate(start_points_enemies, start=1):\n",
    "    plt.scatter(*start_point_enemy, color='red', marker='o', s=100, label=f'Enemy {i}')\n",
    "\n",
    "# Mark the goal point for the player\n",
    "plt.scatter(*goal_point_player, color='red', marker='x', s=100, label='Player')\n",
    "\n",
    "# Plot the optimal paths for enemies to reach the player\n",
    "for i, optimal_path_enemy in enumerate(optimal_paths_enemies, start=1):\n",
    "    optimal_path_enemy_x, optimal_path_enemy_y = zip(*optimal_path_enemy)\n",
    "    plt.plot(optimal_path_enemy_y, optimal_path_enemy_x, linewidth=2, label=f'Enemy {i} Path')\n",
    "\n",
    "plt.tick_params(axis='both', which='both', bottom=False, top=False, left=False, right=False, labelbottom=False, labelleft=False)\n",
    "\n",
    "plt.legend(loc='upper right')\n",
    "plt.title('A* Pathfinding for Enemies to Reach the Player')\n",
    "plt.show()"
   ]
  }
 ],
 "metadata": {
  "kernelspec": {
   "display_name": "base",
   "language": "python",
   "name": "python3"
  },
  "language_info": {
   "codemirror_mode": {
    "name": "ipython",
    "version": 3
   },
   "file_extension": ".py",
   "mimetype": "text/x-python",
   "name": "python",
   "nbconvert_exporter": "python",
   "pygments_lexer": "ipython3",
   "version": "3.11.5"
  }
 },
 "nbformat": 4,
 "nbformat_minor": 2
}
