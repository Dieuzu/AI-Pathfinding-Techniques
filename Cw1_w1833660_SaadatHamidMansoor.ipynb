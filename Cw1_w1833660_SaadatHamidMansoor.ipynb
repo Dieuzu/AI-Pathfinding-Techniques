{
  "cells": [
    {
      "cell_type": "markdown",
      "metadata": {
        "id": "E_SWadp80Vx3"
      },
      "source": [
        "<div style=\"display: flex; justify-content: center;\">\n",
        "    <img src=\"https://cdn.discordapp.com/attachments/1178979732201672718/1180924556953788577/UniLogo.png\" alt=\"IIT and UOW Logo\">\n",
        "</div>\n",
        "\n",
        "## <center> </center>\n",
        "## <center>INFORMATICS INSTITUTE OF TECHNOLOGY</center>\n",
        "### <center>BSC (Hons) Computer Science</center>\n",
        "## <center>UNIVERSITY OF WESTMINSTER</center>\n",
        "\n",
        "## <center>6COSC020C.1 Applied AI</center>\n",
        "### <center>Coursework (2023/24)</center>\n",
        "\n",
        "# <center>Optimizing Game Environments: A Comprehensive Study of AI Pathfinding Techniques</center>\n",
        "### <center>Domain : Games </center>\n",
        "\n",
        "### <center>By: Saadat Hamid Mansoor</center>\n",
        "### <center>Student ID: 20200616 | UoW ID : w1833660</center>\n",
        "\n",
        "<!-- <div style=\"display: flex; justify-content: center;\">\n",
        "    <img src=\"https://cdn.discordapp.com/attachments/1178979732201672718/1179678027022598244/feNPC.png\" alt=\"Alear And Marth Facing Enemey NPC\">\n",
        "</div> -->\n",
        "\n"
      ]
    },
    {
      "cell_type": "markdown",
      "metadata": {},
      "source": [
        "# Table of Contents\n",
        "\n",
        "1. [Part A – Application Area Review](#part-a)\n",
        "    - [Introduction](#pa-intro)\n",
        "    - [Overview of AI in Games](#pa-overview)\n",
        "2. [Part B – Compare and Evaluate AI Techniques](#part-b)\n",
        "    - [Introduction to Pathfinding](#pb-intro)\n",
        "    - [Depth-First Search (DFS)](#pb-dfs)\n",
        "        - [Strengths and Advantages of DFS](#pb-dfs-sa)\n",
        "        - [Weaknesses and Disadvantages of DFS](#pb-dfs-wd)\n",
        "        - [Application Example](#pb-dfs-ea)\n",
        "        - [Input Data and Expected Output](#pb-dfs-ie)\n",
        "        - [Author's Analysis on DFS](#pb-dfs-aa)\n",
        "    - [Greedy Best-First Search (GBFS)](#pb-gbfs)\n",
        "        - [Strengths and Advantages of GBFS](#pb-gbfs-sa)\n",
        "        - [Weaknesses and Disadvantages of GBFS](#pb-gbfs-wd)\n",
        "        - [Application Example](#pb-gbfs-ea)\n",
        "        - [Input Data and Expected Output](#pb-gbfs-ie)\n",
        "        - [Author's Analysis on GBFS](#pb-gbfs-aa)\n",
        "    - [Dijkstra's Algorithm](#pb-dijkstra)\n",
        "        - [Strengths and Advantages of Dijkstra's Algorithm](#pb-da-sa)\n",
        "        - [Weaknesses and Disadvantages of Dijkstra's Algorithm](#pb-da-wd)\n",
        "        - [Application Example](#pb-da-ea)\n",
        "        - [Input Data and Expected Output](#pb-da-ie)\n",
        "        - [Author's Analysis on Dijkstra's Algorithm](#pb-da-aa)\n",
        "    - [A* (A-star) Algorithm](#pb-astar)\n",
        "        - [Strengths and Advantages of A* Algorithm](#pb-as-sa)\n",
        "        - [Weaknesses and Disadvantages of A* Algorithm](#pb-as-wd)\n",
        "        - [Application Example](#pb-as-ea)\n",
        "        - [Input Data and Expected Output](#pb-as-ie)\n",
        "        - [Manhattan Distance as a Heuristic](#pb-as-md)\n",
        "        - [Author's Analysis on A* Algorithm](#pb-as-aa)\n",
        "    - [Procedural Terrain Generation Using Perlin Noise (Extra)](#pb-ptgp)\n",
        "    - [Conclusion](#pb-conclusion)\n",
        "3. [Part C – Implementation](#part-c)\n",
        "    - [High-Level Diagram](#pc-hld)\n",
        "    - [Input/Data](#pc-id)\n",
        "    - [Prototype Section 0: Setup and Dependencies](#pc-s0)\n",
        "    - [Prototype Section 1: Exploring A* Algorithm - A Comparative Analysis of Pathfinding Algorithms in Gridded Mazes](#pc-s1)\n",
        "    - [Prototype Section 2: Player Tracking NPC's in Procedurally Generated Environments with A* Algorithm](#pc-s2)\n",
        "4. [Part D – Testing](#part-d)\n",
        "    - [Appropriate Testing Methods](#pd-tm)\n",
        "        - [Section 1 - Testing Methods](#pd-tm-s1)\n",
        "        - [Section 2 - Testing Methods](#pd-tm-s2)\n",
        "    - [Test Case Tables](#pd-tct)\n",
        "        - [Section 1 - Test Case Table](#pd-tct-s1)\n",
        "        - [Section 2 - Test Case Table](#pd-tct-s2)\n",
        "5. [Part E – Evaluate Results](#part-e)\n",
        "    - [Evaluation of Test Results of Section 1 of the Prototype](#pe-c1)\n",
        "    - [Evaluation of Test Results of Section 2 of the Prototype](#pe-c2)\n",
        "    - [Overall Evaluation](#pe-oc)\n",
        "6. [References](#references)\n",
        "    - [Books](#r-books)\n",
        "    - [Lecture Slides](#r-ls)\n",
        "    - [Source to Images](#r-si)\n",
        "7. [Apendix](#apendix)\n",
        "    - [Part C - Section 3 : Multi Agent Player Tracking In a Procedurally Generated Environment](#apendix-s3)"
      ]
    },
    {
      "cell_type": "markdown",
      "metadata": {},
      "source": [
        "# Part A – Application area review <a name=\"part-a\"></a>"
      ]
    },
    {
      "cell_type": "markdown",
      "metadata": {},
      "source": [
        "## Introduction <a name=\"pa-intro\"></a>\n",
        "\n",
        "Artificial Intelligence (AI) has been an integral part of video games since their inception in the 1950s. In video games, AI is used to generate responsive, adaptive, or intelligent behaviors primarily in non-playable characters (NPCs), similar to human-like intelligence. AI in video games is a distinct subfield and differs from academic AI. It serves to improve the game-player experience rather than machine learning or decision making. The integration of Artificial Intelligence (AI) in the gaming industry has transformed virtual environments, enhancing player experiences through lifelike behaviors and dynamic content generation (Ian Millington, 2019).\n"
      ]
    },
    {
      "cell_type": "markdown",
      "metadata": {},
      "source": [
        "## Overview of AI in Games <a name=\"pa-overview\"></a>\n",
        "In the year 1980 the game Pac-Man was released containing what is now considered the very early stages of AI in games *(Figure 1)*. the game employed a basic state machine for its enemy characters, with ghosts transitioning between chasing, scattering, and frightened states. Each ghost followed a distinct rule in chase mode, lending them unique personalities. until the mid 1990's, the field of game AI remained relatively stagnant, with computer-controlled characters resembling the simplicity of Pac-Man ghosts, lacking significant advancements in sophistication. (Ian Millington, 2022)\n",
        "\n",
        "<div style=\"display: flex; justify-content: center;\">\n",
        "    <img src=\"https://cdn.discordapp.com/attachments/1178979732201672718/1181142949652877312/pac-man.gif\" alt=\"Pac-Man 1980\" style=\"width: 28%;\">\n",
        "</div>\n",
        "<div style=\"text-align: center\"><i><b>Figure 1: Pac-Man (1980)</b></i></div>\n",
        "\n",
        "\n",
        "AI, once confined to the realms of enemy character behaviors, has now become an influential force in modern game development. Its influence permeates every aspect of the gaming experience, introducing layers of complexity that enhance the immersive nature of virtual environments. The transformative shift in AI over the past decade is marked by the rise of deep learning, driven not by academic breakthroughs but by the practical application of neural networks, notably empowered by increased computing capabilities.\n",
        "\n",
        "NPC AI in games primarily serves three fundamental functions: character movement, decision-making on movement, and tactical or strategic thinking, with many diverse approaches converging to meet these common requirements (Ian Millington, 2022). a brief look into some of the most important aspects of AI in games will be listed below.\n",
        "\n",
        "\n",
        "1. **Pathfinding Algorithms:** \n",
        "Pathfinding is a critical aspect of game AI that enables non-player characters (NPCs) to navigate through the game world. The goal of pathfinding algorithms is to find the most efficient route from point A to point B. At the heart of dynamic character movement lies pathfinding algorithms. A* (A-star), Dijkstra's algorithm, and Depth-First Search (DFS) are the digital pathfinding methods guiding Non Player Characters (NPC) through the virtual realms of games. These algorithms are not just mathematical formulas, they are the foundation of seamless exploration, ensuring that characters traverse diverse landscapes with a natural fluidity while remaining true to their goals and keeping the illusion of immersiveness real. *Figure 2* Showcases how a pathfinding is applied to Enemy NPCs to predict their possible movement outcomes towards the player character. \n",
        "RPG games like Fire Emblem developed by intelligent systems and published by Nintendo has been using Pathfinding algorithms since 1990 in their first release: Fire Emblem: Shadow Dragon and the Blade of Light (1990), and each subsequent game has improved on the AI that handles pathfinding right up to their newest release in 2023 Fire Emblem Engage. The integration of advanced pathfinding algorithms ensures characters navigate challenging terrains seamlessly.\n",
        "\n",
        "\n",
        "<div style=\"display: flex; justify-content: center;\">\n",
        "    <img src=\"https://cdn.discordapp.com/attachments/1178979732201672718/1178980437712973855/2023012014511500_c1.jpg\" alt=\"Fire Emblem Engage 2023\" style=\"width: 48%;\">\n",
        "</div>\n",
        "<div style=\"text-align: center\"><i><b>Figure 2: Fire Emblem Engage (2023) : Possible NPC Attack Points visualized</b></i></div>\n",
        "\n",
        "2. **Procedural Terrain Generation:** \n",
        "Terrain generation in games refers to the process of creating the game environment or ‘world’. This could include everything from the landscapes and weather systems to the placement of buildings and objects. AI can be used to procedurally generate these terrains, creating unique and dynamic environments for each play through. The locations on which most of the gaming narrative unfolds is no longer static but a living, breathing entity shaped by terrain generation algorithms. Some notable techniques include Perlin noise and cellular automata, similar to virtual sculptors these techniques can craft terrains with jagged mountain ranges, meandering rivers, and sprawling valleys. \n",
        "The result is a dynamic location that responds to the player's every action, creating unique and ever-changing levels of visual splendor filled with exciting and strategic challenges. *Figure 3* showcases how a natural looking terrain can be procedurally generated. Procedural terrain generation, as seen in games like \"Minecraft\" and \"No Man's Sky,\" leads to the creation of vast and diverse landscapes. The result is a dynamic and immersive gaming experience where players can explore unique and procedurally generated worlds.\n",
        "\n",
        "\n",
        "<div style=\"display: flex; justify-content: center;\">\n",
        "    <img src=\"https://cdn.discordapp.com/attachments/1178979732201672718/1179681289121562695/Kb9SpjJ.png\" alt=\"Procedurally Generated Terrain\" style=\"width: 48%;\">\n",
        "</div>\n",
        "<div style=\"text-align: center\"><i><b>Figure 3: Example of Procedurally Generated Terrain with Perlin Noise</b></i></div>\n",
        "\n",
        "3. **Procedural Content Creation:** \n",
        "Procedural Content Creation (PCC) is a method of creating game content algorithmically rather than manually. In other words, developers create algorithms that generate game content on the fly. This could include anything from level design and object placement to narrative events and dialogue. PCC allows for a vast amount of content to be created with minimal input from developers, making it ideal for open-world games or games with a high degree of replayability. It also ensures that each player’s experience is unique, as the content they encounter will be different each time they play. The storytellers of virtual worlds are no longer bound by predefined narratives. \n",
        "When it comes to AI in games, Procedural Content Creation is a popular area of research. Deep learning methods have been applied to generate game content directly or indirectly, such as levels, maps, character models, and textures 1. AI algorithms can assist in creating game assets, such as textures, 3D models, and animations. This accelerates the development process, allowing designers to focus on more creative aspects while AI handles repetitive tasks. Additionally, AI can help generate questlines, dialogues, and story elements\n",
        "\n",
        "3.  **Swarm Intelligence:**\n",
        "Swarm Intelligence (SI) is a subfield of AI that studies the collective behavior of decentralized systems like flocks of birds, colonies of ants, and schools of fish. In the context of game AI, SI techniques can be used to create emergent behaviors in large groups of agents, making them appear more natural and unpredictable (Eric Bonabeau et al, 1999). This is achieved by imbuing individual agents with simple rules, leading to complex and unique group dynamics, as observed in realistic crowd behavior or swarming enemies. A key feature is the absence of a central leader; instead, agents communicate and coordinate using local information, making them able to adjust well to different situations. Games like \"Spore\" and \"Skyrim\" employ Swarm Intelligence for lifelike flocking birds, while games like \"Empire Ants\" simulates ant colonies, and the Zerg swarm in \"StarCraft\" showcases emergent behavior for strategic advantage. Overall, Swarm Intelligence in game AI enhances realism and adaptability by harnessing decentralized, emergent principles.\n",
        "\n",
        "As we explore the various types of AI in games, we uncover not just a technological advancement but a reimagining of the very essence of interactive entertainment. Its safe to say, AI has revolutionized the way we design and play video games. It has allowed for more complex and realistic game worlds, more intelligent and believable NPCs, and a more personalized and dynamic gaming experience. As AI technology continues to advance, we can only expect its role in video game development to grow. \n",
        "\n",
        "The overview presented here is just a glimpse into the intricate combination between AI algorithms and creative expression that defines the modern gaming experience, a testament to the limitless possibilities that game developers are privileged to have and use. the Next chapter will explore some of the key aspects of AI pathfinding and touch briefly on terrain generation with Perlin Noise.\n"
      ]
    },
    {
      "cell_type": "markdown",
      "metadata": {},
      "source": [
        "# Part B – Compare and evaluate AI techniques <a name=\"part-b\"></a>"
      ]
    },
    {
      "cell_type": "markdown",
      "metadata": {},
      "source": [
        "**Domain**: Games\n",
        "\n",
        "**Problem**: Optimizing pathfinding for non-player characters (NPC) to find player character in a grid based RPG style game.\n",
        "\n",
        "**Goal**: To identify an optimal AI pathfinding technique to implement into an NPC for tracking the player character in a grid-based RPG. The objective is to achieve the shortest distance traveled, highest efficiency, and minimal traversal cost, accounting for various terrains with distinct difficulty levels or weights.\n"
      ]
    },
    {
      "cell_type": "markdown",
      "metadata": {},
      "source": [
        "## __Introduction to Pathfinding__ <a name=\"pb-intro\"></a>"
      ]
    },
    {
      "cell_type": "markdown",
      "metadata": {},
      "source": [
        "All good grid-based RPG games employ specific pathfinding algorithms for their NPCs, to make the NPC movements look planned and deliberate giving a sense of realism. Pathfinding, also known as path planning, has many different approaches on how it can be tackled and used. For the domain of games, the author chooses to explore 4 of the most iconic pathfinding techniques and decide on the most optimal one as a solution for his grid based RPG game. The 4 Pathfinding techniques are: Depth-First Search (DFS), Greedy Best-First Search (GBFS), Dijkstra's Algorithm and A* (A-star) Algorithm. Additionally, for a more comprehensive exploration of AI pathfinding, the author will discuss another commonly used AI technique in level design, touching upon terrain generation and incorporating the use of Perlin noise."
      ]
    },
    {
      "cell_type": "markdown",
      "metadata": {},
      "source": [
        "## __Depth-First Search (DFS)__ <a name=\"pb-dfs\"></a>"
      ]
    },
    {
      "cell_type": "markdown",
      "metadata": {},
      "source": [
        "Depth-First Search is a straightforward pathfinding algorithm that explores paths as deeply as possible before backtracking. Let's take an in-depth look at its unique approach and understand how it can contribute to the effectiveness of NPC pathfinding in a grid-based RPG."
      ]
    },
    {
      "cell_type": "markdown",
      "metadata": {},
      "source": [
        "#### **Strengths and Advantages of DFS** <a name=\"pb-dfs-sa\"></a>\n",
        "\n",
        "1. **Simplicity:** DFS is straightforward and easy to implement, making it suitable for quick prototyping and testing phases in game development.\n",
        "\n",
        "2. **Minimal Memory Requirements:** DFS has minimal memory requirements as it only needs to store information about the current path being explored.\n",
        "\n",
        "3. **Versatility:** DFS is versatile and applicable to various types of grids, making it suitable for different game environments.\n",
        "\n"
      ]
    },
    {
      "cell_type": "markdown",
      "metadata": {},
      "source": [
        "#### **Weaknesses and Disadvantages of DFS** <a name=\"pb-dfs-wd\"></a>\n",
        "\n",
        "1. **Lack of Optimality:** DFS does not guarantee the optimality of the path, leading to suboptimal solutions. In a grid-based RPG, this can result in NPCs taking longer routes to reach the player.\n",
        "\n",
        "2. **Potential for Infinite Loops:** DFS may get stuck in infinite loops, especially in grids with cycles, causing NPCs to repetitively explore the same areas without progress.\n",
        "\n",
        "3. **Non-Adaptability:** DFS might struggle in dynamic RPG environments where the grid changes frequently, as it does not adapt well to alterations.\n"
      ]
    },
    {
      "cell_type": "markdown",
      "metadata": {},
      "source": [
        "#### **Application Example** <a name=\"pb-dfs-ea\"></a>\n",
        "\n",
        "In a grid-based RPG where an NPC is tasked with tracking a player, Depth-First Search (DFS) can offer a straightforward approach. The NPC, employing DFS, explores the grid systematically, moving through adjacent cells until it locates the player. As the NPC traverses paths, it discovers various areas of the game world. However, due to DFS's non-optimality, the NPC might not consistently choose the shortest path, resulting in a less efficient route to track the player."
      ]
    },
    {
      "cell_type": "markdown",
      "metadata": {},
      "source": [
        "#### **Input Data and Expected Output** <a name=\"pb-dfs-ie\"></a>\n",
        "\n",
        "**Input Data:** For Depth-First Search (DFS) in a grid-based RPG, the algorithm primarily requires information about the connectivity of cells in the grid. This data could be represented as an adjacency matrix or list, indicating which cells are adjacent to each other.\n",
        "\n",
        "**Expected Output:** The expected output from DFS is the path taken by the NPC in the grid. However, due to DFS's non-optimality, the path may not be the shortest, and it represents the first path discovered by the algorithm during exploration.\n"
      ]
    },
    {
      "cell_type": "markdown",
      "metadata": {},
      "source": [
        "#### **Author's Analysis on DFS** <a name=\"pb-dfs-aa\"></a>\n",
        "\n",
        "Depth-First Search (DFS) is suitable for NPC exploration due to its simplicity and memory efficiency. However, its non-optimality may lead to suboptimal paths, making it less ideal for precise player tracking in the Author's grid-based RPG. In the next section we will take a look at how the Greedy Best-First Search algorithm could potentially be used to solve the same problem!"
      ]
    },
    {
      "cell_type": "markdown",
      "metadata": {},
      "source": [
        "## __Greedy Best-First Search (GBFS)__ <a name=\"pb-gbfs\"></a>"
      ]
    },
    {
      "cell_type": "markdown",
      "metadata": {},
      "source": [
        "Greedy Best-First Search prioritizes speed, navigating through the grid based on heuristic estimates. Let's take an in-depth look at its unique approach and understand how it can contribute to the effectiveness of NPC pathfinding in a grid-based RPG."
      ]
    },
    {
      "cell_type": "markdown",
      "metadata": {},
      "source": [
        "#### **Strengths and Advantages of GBFS** <a name=\"pb-gbfs-sa\"></a>\n",
        "\n",
        "1. **Speed:** Greedy Best-First Search excels in speed, quickly navigating through the grid based on heuristic information. This makes it suitable for real-time scenarios in games.\n",
        "\n",
        "2. **Ease of Implementation:** Similar to DFS, Greedy Best-First Search is relatively simple to implement, providing a quick and accessible solution for game developers.\n",
        "\n",
        "3. **Adaptability:** The algorithm is adaptable to different grid-based RPG environments, providing flexibility in NPC tracking scenarios."
      ]
    },
    {
      "cell_type": "markdown",
      "metadata": {},
      "source": [
        "#### **Weaknesses and Disadvantages of GBFS** <a name=\"pb-gbfs-wd\"></a>\n",
        "\n",
        "1. **Lack of Optimality:** Similar to DFS, Greedy Best-First Search prioritizes speed over optimality, potentially leading NPCs to choose suboptimal paths in a grid-based RPG.\n",
        "\n",
        "2. **Heuristic Dependency:** The algorithm heavily relies on heuristic information, and if the heuristic is poorly designed, it can result in biased decision-making and less effective NPC tracking.\n",
        "\n",
        "3. **Limited Exploration:** Greedy Best-First Search may focus too narrowly on promising paths based on initial estimates, limiting exploration of other potentially optimal routes."
      ]
    },
    {
      "cell_type": "markdown",
      "metadata": {},
      "source": [
        "#### **Application Example** <a name=\"pb-gbfs-ea\"></a>\n",
        "\n",
        "For the task of NPC tracking in a grid-based RPG, Greedy Best-First Search proves valuable for its speed-oriented approach. The NPC, utilizing this algorithm, quickly navigates through the grid based on heuristic estimates, prioritizing paths that seem most promising for locating the player. The algorithm's emphasis on rapid decision-making enables the NPC to respond swiftly to the player's movements. However, the selected path may not always be the shortest, highlighting the trade-off between speed and optimality in the context of player tracking."
      ]
    },
    {
      "cell_type": "markdown",
      "metadata": {},
      "source": [
        "#### **Input Data and Expected Output** <a name=\"pb-gbfs-ie\"></a>\n",
        "\n",
        "**Input Data:** Greedy Best-First Search relies heavily on heuristic information. In a grid-based RPG, this could be data representing estimated distances from each cell to the player's location. The heuristic guides the algorithm in selecting the most promising paths.\n",
        "\n",
        "**Expected Output:** The expected output is the path taken by the NPC. Since Greedy Best-First Search prioritizes speed over optimality, the chosen path might not be the shortest but is determined by the heuristic's initial estimates."
      ]
    },
    {
      "cell_type": "markdown",
      "metadata": {},
      "source": [
        "#### **Author's Analysis on GBFS** <a name=\"pb-gbfs-aa\"></a>\n",
        "\n",
        "Greedy Best-First Search is effective for real-time NPC tracking, prioritizing speed. However, its tendency to favor heuristic estimates over optimal paths may result in less efficient routes, impacting its suitability for precise player tracking in the Author's grid-based RPG. In the next section we will take a look at how the Dijkstra's algorithm could potentially be used to solve the same problem!"
      ]
    },
    {
      "cell_type": "markdown",
      "metadata": {},
      "source": [
        "## __Dijkstra's Algorithm__ <a name=\"pb-dijkstra\"></a>"
      ]
    },
    {
      "cell_type": "markdown",
      "metadata": {},
      "source": [
        "Dijkstra's Algorithm guarantees optimality by systematically evaluating the costs of traversing grid cells. Let's take an in-depth look at its unique approach and understand how it can contribute to the effectiveness of NPC pathfinding in a grid-based RPG."
      ]
    },
    {
      "cell_type": "markdown",
      "metadata": {},
      "source": [
        "#### **Strengths and Advantages of Dijkstra's Algorithm** <a name=\"pb-da-sa\"></a>\n",
        "\n",
        "1. **Optimality:** Dijkstra's Algorithm guarantees the optimality of the solution, ensuring that the NPC chooses the shortest path to reach the player in a grid-based RPG.\n",
        "\n",
        "2. **Versatility:** Dijkstra's Algorithm is versatile and applicable to various grid scenarios, providing accurate and optimal solutions for NPC tracking.\n",
        "\n",
        "3. **Consideration of Costs:** By considering the costs associated with traversing between cells, Dijkstra's Algorithm provides a realistic approach to pathfinding in the RPG environment."
      ]
    },
    {
      "cell_type": "markdown",
      "metadata": {},
      "source": [
        "#### **Weaknesses and Disadvantages of Dijkstra's Algorithm** <a name=\"pb-da-wd\"></a>\n",
        "\n",
        "1. **Computational Complexity:** Dijkstra's Algorithm can be computationally expensive, especially in large grids, making it less suitable for real-time applications in grid-based RPGs.\n",
        "\n",
        "2. **Memory Requirements:** The algorithm requires storing information about all explored paths, leading to higher memory requirements compared to simpler algorithms like DFS and Greedy Best-First Search.\n",
        "\n",
        "3. **Non-Adaptability to Heuristics:** Dijkstra's Algorithm does not incorporate heuristic information, potentially resulting in suboptimal paths compared to algorithms like A*."
      ]
    },
    {
      "cell_type": "markdown",
      "metadata": {},
      "source": [
        "#### **Application Example** <a name=\"pb-da-ea\"></a>\n",
        "\n",
        "In the grid-based RPG environment, Dijkstra's Algorithm becomes a precise tool for NPC tracking. The NPC, employing Dijkstra's Algorithm, meticulously calculates the costs associated with traversing between grid cells. This comprehensive evaluation ensures that the NPC consistently chooses the optimal path to reach the player. While computationally more intensive, Dijkstra's Algorithm excels in scenarios where the NPC's precision in tracking the player's movements is critical for an immersive gameplay experience."
      ]
    },
    {
      "cell_type": "markdown",
      "metadata": {},
      "source": [
        "#### **Input Data and Expected Output** <a name=\"pb-da-ie\"></a>\n",
        "\n",
        "**Input Data:** Dijkstra's Algorithm requires information about the weights or costs associated with traversing between cells in the grid. In a grid-based RPG, this data could represent the actual distances or obstacles that affect movement.\n",
        "\n",
        "**Expected Output:** The expected output from Dijkstra's Algorithm is the optimal path taken by the NPC to reach the player. The algorithm guarantees optimality by considering all possible paths and selecting the one with the minimum cumulative cost."
      ]
    },
    {
      "cell_type": "markdown",
      "metadata": {},
      "source": [
        "#### **Author's Analysis on Dijkstra's Algorithm** <a name=\"pb-da-aa\"></a>\n",
        "\n",
        "Dijkstra's Algorithm guarantees optimality but is computationally demanding. While it ensures precision in NPC tracking, the higher computational complexity may limit its real-time effectiveness for the Author's grid-based RPG. In the next section we will finaly take a look at how the A* algorithm could potentially be used to solve the same problem!"
      ]
    },
    {
      "cell_type": "markdown",
      "metadata": {},
      "source": [
        "## __A* (A-star) Algorithm__ <a name=\"pb-astar\"></a>"
      ]
    },
    {
      "cell_type": "markdown",
      "metadata": {},
      "source": [
        "A* Algorithm strikes a balance between efficiency and optimality, combining heuristic-guided search with actual cost considerations. Let's take an in-depth look at its unique approach and understand how it can contribute to the effectiveness of NPC pathfinding in a grid-based RPG."
      ]
    },
    {
      "cell_type": "markdown",
      "metadata": {},
      "source": [
        "#### **Strengths and Advantages of A\\* Algorithm** <a name=\"pb-as-sa\"></a>\n",
        "\n",
        "1. **Optimality and Efficiency:** A* combines the optimality of Dijkstra's Algorithm with the efficiency of heuristic-guided search. It ensures both speed and precision in finding the optimal path for NPC tracking.\n",
        "\n",
        "2. **Adaptability:** A* is adaptable to different heuristic functions and grid scenarios, allowing game developers to tailor the algorithm to specific RPG environments.\n",
        "\n",
        "3. **Precision in NPC Tracking:** The algorithm's ability to consider both actual costs and heuristic estimates results in precise and optimal NPC tracking in a grid-based RPG setting."
      ]
    },
    {
      "cell_type": "markdown",
      "metadata": {},
      "source": [
        "#### **Weaknesses and Disadvantages of A\\* Algorithm** <a name=\"pb-as-wd\"></a>\n",
        "\n",
        "1. **Computational Complexity:** While more efficient than Dijkstra's Algorithm, A* can still have higher computational complexity compared to simpler algorithms like DFS and Greedy Best-First Search.\n",
        "\n",
        "2. **Heuristic Quality Dependency:** A* performance heavily depends on the quality of the heuristic function. Poorly designed heuristics may lead to suboptimal paths, affecting NPC tracking in grid-based RPGs.\n",
        "\n",
        "3. **Implementation Complexity:** A* requires implementing both the cost calculation and heuristic functions, making it more complex to set up than simpler algorithms."
      ]
    },
    {
      "cell_type": "markdown",
      "metadata": {},
      "source": [
        "#### **Application Example** <a name=\"pb-as-ea\"></a>\n",
        "\n",
        "In the context of a grid-based RPG where an NPC is assigned the task of tracking a player, the A* algorithm offers a robust solution. The NPC, employing A*, dynamically adjusts its path by considering both the actual costs of traversing grid cells and heuristic estimates of remaining distances to the player's location. This dynamic adaptation ensures that the NPC responds promptly to the player's movements, while the algorithm consistently guides the NPC on paths that balance efficiency and optimality in the grid. The A* algorithm proves effective in enhancing the overall tracking experience, providing a pragmatic approach to NPC tracking in the RPG environment."
      ]
    },
    {
      "cell_type": "markdown",
      "metadata": {},
      "source": [
        "#### **Input Data and Expected Output** <a name=\"pb-as-ie\"></a>\n",
        "\n",
        "**Input Data:** Similar to Dijkstra's Algorithm, A* needs data about the costs associated with traversing between cells. Additionally, A* requires heuristic information, estimating the remaining cost from each cell to the player's location.\n",
        "\n",
        "**Expected Output:** The expected output is the optimal path taken by the NPC. A* combines the efficiency of heuristic-guided search with the optimality guarantee of Dijkstra's Algorithm, ensuring both speed and precision in NPC tracking in the grid-based RPG."
      ]
    },
    {
      "cell_type": "markdown",
      "metadata": {},
      "source": [
        "#### **Manhattan Distance as a Heuristic** <a name=\"pb-as-md\"></a>\n",
        "\n",
        "One commonly used heuristic in A* is the Manhattan distance, especially in grid-based games. This heuristic calculates the distance between two points on a grid by summing the absolute differences of their coordinates. Using the Manhattan distance as a heuristic in A* is advantageous in scenarios where movement is constrained to grid positions, providing a good balance between accuracy and computational efficiency."
      ]
    },
    {
      "cell_type": "markdown",
      "metadata": {},
      "source": [
        "#### **Author's Analysis on A\\* Algorithm** <a name=\"pb-as-aa\"></a>\n",
        "\n",
        "A* Algorithm strikes a balance between efficiency and optimality, making it versatile for NPC tracking. Its dynamic adaptation to heuristic-guided paths ensures swift responses to player movements, making it the best choice of pathfinding for the Author's grid-based RPG. The next section will briefly touch on the topic of Terrain Generation using Perlin Noise!"
      ]
    },
    {
      "cell_type": "markdown",
      "metadata": {},
      "source": [
        "## __Procedural Terrain Generation Using Perlin Noise (Extra)__ <a name=\"pb-ptgp\"></a>"
      ]
    },
    {
      "cell_type": "markdown",
      "metadata": {},
      "source": [
        "Procedural terrain generation is an AI technique used in game development to create realistic and dynamic landscapes. This technique uses algorithms that generate terrain features and details based on predefined rules and parameters. one commonly utilized method within procedural terrain generation is Perlin noise, developed by Ken Perlin.Perlin noise is a gradient noise function that assigns values to points in space, resulting in smoothly varying patterns. In terrain generation, Perlin noise is used to simulate natural randomness, producing convincing landscapes with features like mountains, valleys, and plains. The beauty of Perlin noise lies in its simplicity and versatility. By adjusting parameters such as amplitude and frequency, developers can control the scale and detail of the generated terrain see *Figure 4*. This flexibility makes Perlin noise an ideal choice for creating vast and visually appealing landscapes in games, providing a dynamic and immersive environment for players to explore.\n",
        "The randomness within Perlin noise allows for the creation of terrains that exhibit natural variability, avoiding the regular and artificial look that simplistic algorithms might produce. As a result, game developers use Perlin noise to create realistic, aesthetic and complext terrains their game environments in level design.\n",
        "\n",
        "One of the biggest advantage of procedural terrain generation, particularly in level design for video games, is the ability to generate large and diverse environments efficiently. Unlike manually designing each section of a game world, procedural techniques allow developers to create expansive terrains with minimal human intervention. This not only saves time but also enables the generation of unique and varied landscapes for each playthrough, enhancing the overall gameplay experience. Additionally, procedural terrain generation facilitates adaptability and scalability in game development. As the terrain is generated algorithmically, it can be modified on the go to respond to player actions or changing game conditions. This dynamic adaptability adds an element of unpredictability and replayability to games, keeping players engaged with evolving landscapes.\n"
      ]
    },
    {
      "cell_type": "markdown",
      "metadata": {},
      "source": [
        "<div style=\"display: flex; justify-content: center;\">\n",
        "    <img src=\"https://cdn.discordapp.com/attachments/1178979732201672718/1186258949708730469/proceduralperlin.gif\" alt=\"Beautiful Sunset\" style=\"width: 48%;\">\n",
        "</div>\n",
        "<div style=\"text-align: center\"><i><b>Figure 4: Example of Procedural Terrain Generation</b></i></div>"
      ]
    },
    {
      "cell_type": "markdown",
      "metadata": {},
      "source": [
        "## __Conclusion__ <a name=\"pb-conclusion\"></a>"
      ]
    },
    {
      "cell_type": "markdown",
      "metadata": {},
      "source": [
        "After comparing and analyzing the 4 pathfinding techniques, the author feels A* can be considered superior to DFS, GBFS, and Dijkstra's Algorithm for the grid-based RPG where optimality and computational efficiency are crucial. By incorporating a heuristic like the Manhattan distance, A* significantly reduces the search space, focusing on the most promising paths. In comparison to DFS, A* guarantees optimality, and compared to GBFS, it strikes a better balance between speed and optimality. While GBFS may sacrifice optimality for real-time tracking speed, A* offers a superior blend of both aspects. Furthermore, compared to Dijkstra's Algorithm, A* often achieves the same optimality with lower computational cost, making it the perfect pathfinding technique for the author's grid-based RPG.\n",
        "\n",
        "The Author chose to include terrain generation using Perlin noise in this section to further enhance the profoundness of pathfinding techniques. The next section will showcase different implementations of the A* algorithm for various situations and also how it stays optimal even in a procedurally generated terrain."
      ]
    },
    {
      "cell_type": "markdown",
      "metadata": {
        "id": "XNz_LXye0jbm"
      },
      "source": [
        "# Part C – Implementation <a name=\"part-c\"></a>"
      ]
    },
    {
      "cell_type": "markdown",
      "metadata": {},
      "source": [
        "After a through analysys in Part B the author chose to go with A* Alogorithm as a the Pathfinding algorithm for a Player Hunting NPC."
      ]
    },
    {
      "cell_type": "markdown",
      "metadata": {},
      "source": [
        "##  High-Level Diagram <a name=\"pc-hld\"></a>"
      ]
    },
    {
      "cell_type": "markdown",
      "metadata": {},
      "source": [
        "*Figure 5* is a high-level diagram that showcases how the author intends to use the chosen AI technique for pathfinding to assist the \"Player Tracking\" NPC to track the Player in a grid-based RPG!"
      ]
    },
    {
      "cell_type": "markdown",
      "metadata": {},
      "source": [
        "<div style=\"display: flex; justify-content: center;\">\n",
        "    <img src=\"https://cdn.discordapp.com/attachments/1178979732201672718/1181532418486841354/Untitled_Diagram.drawio.png\" alt=\"High Level Diagram\" style=\"width: 58%;\">\n",
        "</div>\n",
        "<div style=\"text-align: center\"><i><b>Figure 5: High Level Diagram</b></i></div>\n"
      ]
    },
    {
      "cell_type": "markdown",
      "metadata": {},
      "source": [
        "## Input/Data <a name=\"pc-id\"></a>"
      ]
    },
    {
      "cell_type": "markdown",
      "metadata": {},
      "source": [
        "The Authors Implementation consists of 2 sections showcasing three different implementations of pathfinding  with A* algorithms for different game environments.\n",
        "\n",
        "- The first scenario (Section 1) involves a weighted grid-based maze where the A* algorithm is applied to find the shortest path considering random weights assigned to each cell. \n",
        "- The second scenario (Section 2) introduces a terrain-based environment generated using Perlin noise, where the NPC uses A* algorithm to navigate through different weighted terrain types such as water, grass, and sand."
      ]
    },
    {
      "cell_type": "markdown",
      "metadata": {},
      "source": [
        "### Section 1: Weighted Grid Pathfinding\n",
        "\n",
        "#### Input Required:\n",
        "\n",
        "- **Grid:**\n",
        "  - A 2D array representing the game environment with obstacles and random weights.\n",
        "- **Start and Goal Points:**\n",
        "  - Coordinates of the starting point (green) and the goal point (red).\n",
        "- **Random Numbers:**\n",
        "  - Used for assigning weights to each cell in the grid.\n",
        "\n",
        "#### Data Source and Preparation:\n",
        "\n",
        "The grid is dynamically generated within the code, incorporating random obstacles and assigning weights using random numbers. The Python `random` module is utilized for generating these random elements. Consequently, no external data source is needed.\n",
        "\n"
      ]
    },
    {
      "cell_type": "markdown",
      "metadata": {},
      "source": [
        "### Section 2: Terrain-based Pathfinding\n",
        "\n",
        "#### Input Required:\n",
        "\n",
        "- **Terrain:**\n",
        "  - A 2D array representing the game environment with different types of terrain (water, grass, sand).\n",
        "- **Enemy and Player Points:**\n",
        "  - Coordinates of the Enemy AI (red marker) and the Player point (star marker).\n",
        "\n",
        "#### Data Source and Preparation:\n",
        "\n",
        "The terrain is generated using Perlin noise to create a realistic landscape with distinct terrain types. The `noise` module is employed for generating 2D Perlin noise, and terrain types are assigned based on noise values. Similar to the first scenario, no external data source is required for this implementation.\n"
      ]
    },
    {
      "cell_type": "markdown",
      "metadata": {},
      "source": [
        "### Common Elements:\n",
        "\n",
        "- Both sections use the A* pathfinding algorithm that uses the manhattan distance as the heuristics.\n",
        "- Visualization is facilitated using Matplotlib to display the game environment, paths, and terrain.\n"
      ]
    },
    {
      "cell_type": "markdown",
      "metadata": {},
      "source": [
        "##  Prototype Section 0:  Setup and Dependencies <a name=\"pc-s0\"></a>"
      ]
    },
    {
      "cell_type": "markdown",
      "metadata": {},
      "source": [
        "### Installing Required Libraries\n",
        "\n",
        "Before running the code, ensure that the required Python libraries are installed. Execute the following commands to install the necessary dependencies:\n",
        "\n",
        "```bash\n",
        "!pip install matplotlib\n",
        "!pip install numpy\n",
        "!pip install noise\n",
        "```"
      ]
    },
    {
      "cell_type": "code",
      "execution_count": null,
      "metadata": {},
      "outputs": [],
      "source": [
        "# Uncomment the following lines to install the required libraries:\n",
        "#!pip install matplotlib\n",
        "#!pip install numpy\n",
        "#!pip install noise"
      ]
    },
    {
      "cell_type": "markdown",
      "metadata": {},
      "source": [
        "**Run the following cell before executing codes in Section 1 and 2:**\n",
        "\n",
        "This cell imports essential libraries. Make sure to run this cell to set up the environment before exploring the code in the following sections."
      ]
    },
    {
      "cell_type": "code",
      "execution_count": 27,
      "metadata": {
        "id": "dG8_H-VL012O"
      },
      "outputs": [],
      "source": [
        "# Importing necessary libraries\n",
        "import matplotlib.pyplot as plt\n",
        "import numpy as np\n",
        "from heapq import heappop, heappush\n",
        "import random\n",
        "import time\n",
        "import noise\n",
        "from matplotlib.colors import ListedColormap\n",
        "from IPython.display import display, HTML\n",
        "from matplotlib.animation import FuncAnimation"
      ]
    },
    {
      "cell_type": "markdown",
      "metadata": {},
      "source": [
        "##  Prototype Section 1: Exploring A* Algorithm - A Comparative Analysis of Pathfinding Algorithms in Gridded Mazes <a name=\"pc-s1\"></a>"
      ]
    },
    {
      "cell_type": "markdown",
      "metadata": {
        "id": "K-aUfM8M0-Wg"
      },
      "source": [
        "### A* Algorithm (Non-Weighted)\n",
        "The following code implements the A* (A-star) pathfinding algorithm to find the shortest path in a gridded maze. The algorithm prioritizes paths with the least number of steps by utilizing a priority queue. It efficiently explores potential paths, updating the cost to reach each node as it progresses. The implementation tracks the shortest path found among all explored paths."
      ]
    },
    {
      "cell_type": "code",
      "execution_count": 3,
      "metadata": {},
      "outputs": [],
      "source": [
        "# Define the A* pathfinding algorithm with least steps priority\n",
        "def astar_least_steps(start, goal, grid):\n",
        "    rows, cols = len(grid), len(grid[0])\n",
        "    open_set = [(0, start)]\n",
        "    came_from = {}\n",
        "    cost_so_far = {start: 0}\n",
        "    all_paths = []  # Track all paths explored\n",
        "    path = []  # Initialize the path variable\n",
        "    iterations = 0  # Counter for iterations taken\n",
        "\n",
        "    while open_set:\n",
        "        current_cost, current_node = heappop(open_set)\n",
        "        iterations += 1  # Increment the iteration counter\n",
        "\n",
        "        for neighbor in neighbors(current_node, rows, cols, grid):\n",
        "            new_cost = cost_so_far[current_node] + 1  # Each step has a cost of 1\n",
        "\n",
        "            if neighbor not in cost_so_far or new_cost < cost_so_far[neighbor]:\n",
        "                cost_so_far[neighbor] = new_cost\n",
        "                priority = len(path)  # Prioritize fewer steps\n",
        "                heappush(open_set, (priority, neighbor))\n",
        "                came_from[neighbor] = current_node\n",
        "                path = reconstruct_path(came_from, start, neighbor)  # Update the path\n",
        "\n",
        "        if current_node == goal:\n",
        "            # Store the full path\n",
        "            path = reconstruct_path(came_from, start, goal)\n",
        "            all_paths.append(path)\n",
        "\n",
        "    if all_paths:\n",
        "        # Find the shortest path among all explored paths\n",
        "        shortest_path = min(all_paths, key=len)\n",
        "        print(\"------------------------------ Shortest Path ----------------------------------\")\n",
        "        print(f\"Number of Iterations: {iterations}\")\n",
        "        print(f\"Number of Steps: {len(shortest_path) - 1}\")  # Subtract 1 to get the number of steps\n",
        "        print(\"-------------------------------------------------------------------------------\")\n",
        "        return shortest_path, all_paths\n",
        "    else:\n",
        "        print(\"No path found.\")\n",
        "        return [], all_paths"
      ]
    },
    {
      "cell_type": "markdown",
      "metadata": {},
      "source": [
        "### A* Algorithm (Weighted)\n",
        "The following code defines a variant of the A* (A-star) pathfinding algorithm for weighted paths in a gridded maze. It factors in weights assigned to each tile, representing traversal costs. Using a priority queue, it efficiently explores paths, updating costs based on encountered weights. The implementation tracks the total cost and weights along the shortest path, offering insights into weighted traversal."
      ]
    },
    {
      "cell_type": "code",
      "execution_count": 4,
      "metadata": {
        "id": "dOYYfdcP1Muu"
      },
      "outputs": [],
      "source": [
        "# Define the A* pathfinding algorithm with weights\n",
        "def astar(start, goal, grid):\n",
        "    rows, cols = len(grid), len(grid[0])\n",
        "    open_set = [(0, start)]\n",
        "    came_from = {}\n",
        "    cost_so_far = {start: 0}\n",
        "    weights_along_path = {start: [grid[start[0], start[1]]]}  # Track weights along the path\n",
        "    all_paths = []  # Track all paths explored\n",
        "    iterations = 0  # Counter for iterations taken\n",
        "\n",
        "    while open_set:\n",
        "        current_cost, current_node = heappop(open_set)\n",
        "        iterations += 1  # Increment the iteration counter\n",
        "\n",
        "        if current_node == goal:\n",
        "            # Store the full path\n",
        "            path = reconstruct_path(came_from, start, goal)\n",
        "            all_paths.append(path)\n",
        "\n",
        "            # Print weights along the path before returning\n",
        "            total_cost = sum(random_numbers[node[0], node[1]] for node in path)  # Calculate total cost\n",
        "            weights_str = \" + \".join(map(str, weights_along_path[goal]))\n",
        "            \n",
        "            print(\"-------------------------- Shortest Path Weighted -----------------------------\")\n",
        "            print(f\"Number of Iterations: {iterations}\")\n",
        "            # Count the steps from start to goal\n",
        "            num_steps = len(path) - 1\n",
        "            print(f\"Number of Steps: {num_steps}\")\n",
        "            # print(f'Total cost = {weights_str}  \\n           = {total_cost}')                                                 #uncomment for full math output\n",
        "            print(f'Total cost = {total_cost}')\n",
        "            print(\"-------------------------------------------------------------------------------\")\n",
        "            \n",
        "            return path, total_cost, weights_along_path, all_paths\n",
        "\n",
        "        for neighbor in neighbors(current_node, rows, cols, grid):\n",
        "            weight = random_numbers[neighbor[0], neighbor[1]]  # Use weights from random_numbers\n",
        "            new_cost = cost_so_far[current_node] + weight\n",
        "\n",
        "            if neighbor not in cost_so_far or new_cost < cost_so_far[neighbor]:\n",
        "                cost_so_far[neighbor] = new_cost\n",
        "                priority = new_cost + heuristic(goal, neighbor)\n",
        "                heappush(open_set, (priority, neighbor))\n",
        "                came_from[neighbor] = current_node\n",
        "                # Update weights along the path\n",
        "                weights_along_path[neighbor] = weights_along_path[current_node] + [weight]\n",
        "                iterations += 1  # Increment the iteration counter for each movement\n",
        "\n",
        "    # If the goal is not reached, return an empty path\n",
        "    print(\"No path found.\")\n",
        "    return [], float('inf'), {}, all_paths"
      ]
    },
    {
      "cell_type": "markdown",
      "metadata": {
        "id": "ZGdi-VYf1PQV"
      },
      "source": [
        "### Neighbor Node Detection in the Maze Grid\n",
        "\n",
        "The following code defines a helper function for detecting neighboring nodes within a gridded maze. The function takes a current node's position, the number of rows and columns in the grid, and the grid itself as parameters. It identifies and returns neighboring nodes that are accessible based on the grid conditions. This function plays a crucial role in the A* pathfinding algorithm, as it helps determine possible moves during the exploration process."
      ]
    },
    {
      "cell_type": "code",
      "execution_count": 5,
      "metadata": {
        "id": "JhOoxZOF1S5N"
      },
      "outputs": [],
      "source": [
        "# Define helper function to get neighboring nodes\n",
        "def neighbors(node, rows, cols, grid):\n",
        "    row, col = node\n",
        "    neighbors = []\n",
        "    if row > 0 and grid[row - 1, col] == 0:\n",
        "        neighbors.append((row - 1, col))\n",
        "    if row < rows - 1 and grid[row + 1, col] == 0:\n",
        "        neighbors.append((row + 1, col))\n",
        "    if col > 0 and grid[row, col - 1] == 0:\n",
        "        neighbors.append((row, col - 1))\n",
        "    if col < cols - 1 and grid[row, col + 1] == 0:\n",
        "        neighbors.append((row, col + 1))\n",
        "    return neighbors"
      ]
    },
    {
      "cell_type": "markdown",
      "metadata": {
        "id": "_C-QSH6H1Xj9"
      },
      "source": [
        "### Heuristic Function for A* Algorithm (Manhattan Distance)\n",
        "The following code defines a heuristic function for the A* (A-star) algorithm. This function computes a heuristic estimate of the cost from position a to position b in a gridded maze. The heuristic used here is the Manhattan distance, calculated as the sum of the absolute differences in the row and column coordinates between the two positions. The heuristic function aids the A* algorithm in making informed decisions during pathfinding by providing an estimate of the remaining cost to reach the goal."
      ]
    },
    {
      "cell_type": "code",
      "execution_count": 6,
      "metadata": {
        "id": "NtHGLA5q1Zu9"
      },
      "outputs": [],
      "source": [
        "# heuristic function for A* (Manhattan distance)\n",
        "def heuristic(a, b):\n",
        "    return abs(a[0] - b[0]) + abs(a[1] - b[1])"
      ]
    },
    {
      "cell_type": "markdown",
      "metadata": {
        "id": "8gKJkGhz1frN"
      },
      "source": [
        "### Path Reconstruction Function\n",
        "The following code defines a function for reconstructing the path from the start to the goal in the A* (A-star) algorithm. This function is crucial for retrieving the final path after the A* algorithm has found the goal. It utilizes a dictionary, which stores the relationships between nodes during the algorithm's execution, to reconstruct the path in reverse order and then reverses it again to get the correct sequence from start to goal."
      ]
    },
    {
      "cell_type": "code",
      "execution_count": 7,
      "metadata": {
        "id": "8JldYJwl1gnm"
      },
      "outputs": [],
      "source": [
        "# Define function to reconstruct the path from start to goal\n",
        "def reconstruct_path(came_from, start, goal):\n",
        "    current = goal\n",
        "    path = [current]\n",
        "    while current != start:\n",
        "        current = came_from[current]\n",
        "        path.append(current)\n",
        "    path.reverse()\n",
        "    return path"
      ]
    },
    {
      "cell_type": "markdown",
      "metadata": {
        "id": "3JYR9cj71jwt"
      },
      "source": [
        "### Generating the Game Environment with Random Obstacles and Weights\n",
        "The following code creates a dynamic game environment featuring random obstacles and associated weights. The obstacle density is adjustable, influencing the distribution of obstacles, while each cell in the grid receives a random weight. The visualization offers insight into the grid with obstacles, weights, and marked start and goal points. Note that due to the random generation, certain configurations may result in mazes with no viable path. In such cases, rerunning the environment generation code is advised to obtain a navigable maze.\n",
        "\n",
        "*Note: The green marker designates the start point, the red marker designates the goal point, and the white text represents the weights on walkable cells.*"
      ]
    },
    {
      "cell_type": "code",
      "execution_count": null,
      "metadata": {
        "id": "9qJ8iIM01me_"
      },
      "outputs": [],
      "source": [
        "# Define the game environment with random obstacles\n",
        "grid_size = (30, 30)  # Increase the grid size\n",
        "obstacle_density = 0.3  # Adjust the obstacle density as needed\n",
        "grid = np.zeros(grid_size)\n",
        "random_numbers = np.zeros(grid_size)  # Store random numbers for each cell\n",
        "\n",
        "# Add random obstacles and numbers to the grid\n",
        "for i in range(grid_size[0]):\n",
        "    for j in range(grid_size[1]):\n",
        "        if random.random() < obstacle_density:\n",
        "            grid[i, j] = 1\n",
        "        else:\n",
        "            random_numbers[i, j] = random.randint(1, 100)\n",
        "\n",
        "# Visualize the grid with obstacles and numbers\n",
        "plt.figure(figsize=(11, 11))  # Adjust the figure size\n",
        "plt.imshow(grid, cmap='gray', origin='upper', interpolation='none', vmin=0, vmax=1)\n",
        "\n",
        "# Mark the start and goal points (optional)\n",
        "start_point = (0, 0)\n",
        "goal_point = (grid_size[0] - 1, grid_size[1] - 1)\n",
        "\n",
        "# Mark the start and goal points\n",
        "plt.scatter(*start_point, color='green', marker='o', s=100, label='Start')\n",
        "plt.scatter(*goal_point, color='red', marker='x', s=100, label='Goal')\n",
        "\n",
        "# Add random numbers as text on each walkable box\n",
        "for i in range(grid_size[0]):\n",
        "    for j in range(grid_size[1]):\n",
        "        if grid[i, j] == 0:\n",
        "            plt.text(j, i, str(int(random_numbers[i, j])), ha='center', va='center', color='white')\n",
        "\n",
        "# Hide only the ticks and tick labels\n",
        "plt.tick_params(axis='both', which='both', bottom=False, top=False, left=False, right=False, labelbottom=False, labelleft=False)\n",
        "\n",
        "plt.title('Game Environment with Random Obstacles and Weights')\n",
        "plt.show()\n"
      ]
    },
    {
      "cell_type": "markdown",
      "metadata": {
        "id": "t26rgAIb1wI2"
      },
      "source": [
        "### Finding Optimal Paths Using A*\n",
        "The following code uses both the different A* (A-star) algorithms previously defined to find optimal paths in the game environment.\n",
        "Two variations are:\n",
        "\n",
        "1. **Non-Weighted Optimal Path**:\n",
        "The A* function is utilized to find the path with the least number of steps. This variant of A* prioritizes simplicity without considering weights.\n",
        "\n",
        "2. **Weighted Optimal Path**:\n",
        "The A* function is applied to find the path considering weights assigned to each cell. This variant incorporates the random weights during pathfinding.\n",
        "\n",
        "***Both paths contribute to the exploration of the maze, showcasing the capabilities of the A\\* algorithm under different conditions.***"
      ]
    },
    {
      "cell_type": "code",
      "execution_count": null,
      "metadata": {
        "id": "u7fc2Tir10Ne"
      },
      "outputs": [],
      "source": [
        "# Find both the weighted and non-weighted optimal paths using A*\n",
        "shortest_path_least_steps, _ = astar_least_steps(start_point, goal_point, grid)\n",
        "weighted_optimal_path, _, _, _ = astar(start_point, goal_point, grid)"
      ]
    },
    {
      "cell_type": "markdown",
      "metadata": {
        "id": "Vrz_luoC17_u"
      },
      "source": [
        "### Visualizing Optimal Paths with A* Algorithm\n",
        "The following code visualizes the optimal paths for the previously generated game environment found in the previous code section. \n",
        "This visualization contributes to a better understanding of the A* algorithm's performance in navigating through a maze with random obstacles and weights."
      ]
    },
    {
      "cell_type": "code",
      "execution_count": null,
      "metadata": {
        "colab": {
          "base_uri": "https://localhost:8080/",
          "height": 1000
        },
        "id": "t134BxoK19OW",
        "outputId": "56da4cf4-8acd-4791-fde5-6c1c2a22afa1"
      },
      "outputs": [],
      "source": [
        "# Visualize the grid and the optimal paths with adjusted figure size\n",
        "plt.figure(figsize=(11, 11))  # Adjust the figure size\n",
        "plt.imshow(grid, cmap='gray', origin='upper', interpolation='none', vmin=0, vmax=1)\n",
        "\n",
        "# Mark the start and goal points\n",
        "plt.scatter(*start_point, color='green', marker='o', s=100, label='Start')\n",
        "plt.scatter(*goal_point, color='red', marker='x', s=100, label='Goal')\n",
        "\n",
        "# Plot the shortest path with least steps in yellow\n",
        "shortest_path_least_steps_x, shortest_path_least_steps_y = zip(*shortest_path_least_steps)\n",
        "plt.plot(shortest_path_least_steps_y, shortest_path_least_steps_x, color='aqua', linewidth=2, label='Shortest Path with Least Steps')\n",
        "\n",
        "# Plot the weighted optimal path in blue\n",
        "optimal_path_x, optimal_path_y = zip(*weighted_optimal_path)\n",
        "plt.plot(optimal_path_y, optimal_path_x, color='red', linestyle='dotted', linewidth=2, label='Weighted Shortest Path')\n",
        "\n",
        "# Add random numbers as text on each walkable box using stored values\n",
        "for i in range(grid_size[0]):\n",
        "    for j in range(grid_size[1]):\n",
        "        if grid[i, j] == 0:\n",
        "            plt.text(j, i, str(int(random_numbers[i, j])), ha='center', va='center', color='white')\n",
        "\n",
        "# Hide only the ticks and tick labels\n",
        "plt.tick_params(axis='both', which='both', bottom=False, top=False, left=False, right=False, labelbottom=False, labelleft=False)\n",
        "\n",
        "plt.legend()\n",
        "plt.title('A* Pathfinding Algorithm with Random Obstacles and Weights')\n",
        "plt.show()"
      ]
    },
    {
      "cell_type": "markdown",
      "metadata": {},
      "source": [
        "### Conclusion of Section 1\n",
        "In this section of pathfinding in game scenarios, we explored the intricacies of navigating gridded mazes amid various challenges. By implementing both non-weighted and weighted A* algorithms, we observed their distinct behaviors in finding optimal paths. The non-weighted approach prioritizes simplicity, seeking the shortest path with the least number of steps, while the weighted version considers the random weights assigned to maze cells during traversal. The dynamic game environment, served as a compelling arena for algorithmic exploration. The visualization of optimal paths showcased the adaptability and efficacy of the A* algorithm under diverse conditions.\n",
        "\n",
        "This section not only provided practical insights into pathfinding strategies in game design but also highlighted the robustness of the A* algorithm in addressing pathfinding challenges within game scenarios. These observations contribute to a deeper understanding of algorithmic decision-making and optimization, particularly in the context of game environments. The next section will extend this exploration by showcasing \"Player Tracking\" NPC's utilizing A* algorithm to track and find the player in a procedurally generated environment with weights for different terrain types."
      ]
    },
    {
      "cell_type": "markdown",
      "metadata": {},
      "source": [
        "##  Prototype Section 2: Player Tracking NPC's in Procedurally Generated Environments with A* Algorithm <a name=\"pc-s2\"></a>"
      ]
    },
    {
      "cell_type": "markdown",
      "metadata": {},
      "source": [
        "\n",
        "### A* Algorithm for Terrain Pathfinding\n",
        "The following code defines an A* (A-star) pathfinding algorithm tailored for terrain navigation based on Perlin noise. The algorithm is designed to find the optimal path between a specified start and goal within a procedurally generated terrain. Key features include:\n",
        "\n",
        "This A* algorithm serves as a foundation for navigating procedurally generated terrains, laying the groundwork for subsequent exploration in the context of player tracking within dynamic game environments."
      ]
    },
    {
      "cell_type": "code",
      "execution_count": 18,
      "metadata": {},
      "outputs": [],
      "source": [
        "# Define the A* pathfinding algorithm for Perlin noise-based terrain\n",
        "def astar_terrain(start, goal, terrain):\n",
        "    rows, cols = terrain.shape\n",
        "    open_set = [(0, start)]\n",
        "    came_from = {}\n",
        "    cost_so_far = {start: 0}\n",
        "    weights_along_path = {start: [terrain[start[0], start[1]]]}  # Track weights along the path\n",
        "    all_paths = []  # Track all paths explored\n",
        "    iterations = 0  # Counter for iterations taken\n",
        "    \n",
        "    # Record the start time\n",
        "    start_time = time.time()\n",
        "    \n",
        "    while open_set:\n",
        "        current_cost, current_node = heappop(open_set)\n",
        "        iterations += 1  # Increment the iteration counter\n",
        "\n",
        "        if current_node == goal:\n",
        "            # Store the full path\n",
        "            path = reconstruct_path(came_from, start, goal)\n",
        "            all_paths.append(path)\n",
        "\n",
        "            # Print weights along the path before returning\n",
        "            total_cost = sum(terrain[node[0], node[1]] for node in path)  # Calculate total cost\n",
        "            weights_str = \" + \".join(map(str, weights_along_path[goal]))\n",
        "            \n",
        "            grass_count = weights_along_path[goal].count(1)\n",
        "            sand_count = weights_along_path[goal].count(2)\n",
        "            water_count = weights_along_path[goal].count(3)\n",
        "\n",
        "            # Record the end time\n",
        "            end_time = time.time()\n",
        "\n",
        "            # Calculate the total time taken\n",
        "            total_time = end_time - start_time\n",
        "            formatted_time = format_time(total_time)\n",
        "            print(\"--------------------- Shortest Path on Terrain ----------------------\")\n",
        "            print(f\"Number of iterations: {iterations}\")\n",
        "            print(f\"Time taken: {formatted_time} seconds\")\n",
        "            num_steps = len(path) - 1\n",
        "            print(f\"Number of steps: {num_steps}           [This does not Include the Start Tile!]\")\n",
        "            print(f\"Number of grass tiles: {grass_count}\")\n",
        "            print(f\"Number of sand tiles: {sand_count}\")\n",
        "            print(f\"Number of water tiles: {water_count}\")\n",
        "            print(f'Total cost = {total_cost}')\n",
        "            print(\"-----------------------------------------------------------------------\")\n",
        "\n",
        "            return path, total_cost, weights_along_path, all_paths\n",
        "\n",
        "        for neighbor in terraneighbors(current_node, rows, cols, terrain):  # Change this line\n",
        "            weight = terrain[neighbor[0], neighbor[1]]  # Use weights from terrain\n",
        "            new_cost = cost_so_far[current_node] + weight\n",
        "\n",
        "            if neighbor not in cost_so_far or new_cost < cost_so_far[neighbor]:\n",
        "                cost_so_far[neighbor] = new_cost\n",
        "                priority = new_cost + heuristic(current_node, goal)  # Update priority calculation\n",
        "                heappush(open_set, (priority, neighbor))\n",
        "                came_from[neighbor] = current_node\n",
        "                # Update weights along the path\n",
        "                weights_along_path[neighbor] = weights_along_path[current_node] + [weight]\n",
        "\n",
        "    # If the goal is not reached, return an empty path\n",
        "    print(\"No path found.\")\n",
        "    return [], float('inf'), {}, all_paths"
      ]
    },
    {
      "cell_type": "markdown",
      "metadata": {},
      "source": [
        "### Neighbor Node Detection in Terrain\n",
        "The following code defines a helper function for detecting neighboring nodes within a procedurally generated terrain. The function takes a current node's position, the number of rows and columns in the terrain, and the terrain itself as parameters. It identifies and returns neighboring nodes that are accessible based on the terrain conditions.\n",
        "\n",
        "This function plays a crucial role in the A* pathfinding algorithm for terrain, ensuring that only valid and traversable nodes are considered during the exploration process."
      ]
    },
    {
      "cell_type": "code",
      "execution_count": 19,
      "metadata": {},
      "outputs": [],
      "source": [
        "# Define helper function to get neighboring nodes\n",
        "def terraneighbors(node, rows, cols, terrain):\n",
        "    row, col = node\n",
        "    neighbors = []\n",
        "    if row > 0 and terrain[row - 1, col] in [1, 2, 3]:\n",
        "        neighbors.append((row - 1, col))\n",
        "    if row < rows - 1 and terrain[row + 1, col] in [1, 2, 3]:\n",
        "        neighbors.append((row + 1, col))\n",
        "    if col > 0 and terrain[row, col - 1] in [1, 2, 3]:\n",
        "        neighbors.append((row, col - 1))\n",
        "    if col < cols - 1 and terrain[row, col + 1] in [1, 2, 3]:\n",
        "        neighbors.append((row, col + 1))\n",
        "    return neighbors"
      ]
    },
    {
      "cell_type": "markdown",
      "metadata": {},
      "source": [
        "### Time Formatting\n",
        "The following code defines a function for formatting time duration. "
      ]
    },
    {
      "cell_type": "code",
      "execution_count": 20,
      "metadata": {},
      "outputs": [],
      "source": [
        "def format_time(duration):\n",
        "    milliseconds = int(duration * 1000)\n",
        "    seconds, milliseconds = divmod(milliseconds, 1000)\n",
        "    minutes, seconds = divmod(seconds, 60)\n",
        "    hours, minutes = divmod(minutes, 60)\n",
        "\n",
        "    return f\"{hours:02d}:{minutes:02d}:{seconds:02d}.{milliseconds:03d}\""
      ]
    },
    {
      "cell_type": "markdown",
      "metadata": {},
      "source": [
        "### Perlin Noise \n",
        "The following code defines a function for generating 2D Perlin noise. The function takes parameters such as the shape of the desired noise map, scale, octaves, persistence, lacunarity, and seed. It utilizes the Perlin noise function from the noise library to create a 2D noise map.\n",
        "\n",
        "This function is instrumental in generating terrain with natural-looking variations, providing a foundation for creating diverse landscapes in procedural content generation."
      ]
    },
    {
      "cell_type": "code",
      "execution_count": 21,
      "metadata": {},
      "outputs": [],
      "source": [
        "# Function to generate 2D Perlin noise\n",
        "def generate_perlin_noise(shape, scale=100.0, octaves=6, persistence=0.5, lacunarity=2.0, seed=None):\n",
        "    world = np.zeros(shape)\n",
        "    for i in range(shape[0]):\n",
        "        for j in range(shape[1]):\n",
        "            world[i][j] = noise.pnoise2(i/scale,\n",
        "                                        j/scale,\n",
        "                                        octaves=octaves,\n",
        "                                        persistence=persistence,\n",
        "                                        lacunarity=lacunarity,\n",
        "                                        repeatx=1024,\n",
        "                                        repeaty=1024,\n",
        "                                        base=seed)\n",
        "    return world"
      ]
    },
    {
      "cell_type": "markdown",
      "metadata": {},
      "source": [
        "### Procedurally Generating the Game Environment and Setting the Scene\n",
        "\n",
        "The following code generates a dynamic game environment using Perlin noise-based terrain, introducing distinct weights to each terrain type. The resulting terrain is visually represented using a custom color map, effectively illustrating different terrain types and their corresponding weights. The \"Player Tracking\" NPC and the Player are also defined within the game environment. This visual representation sets the foundation for the subsequent application of the A* algorithm, demonstrating its adaptability in navigating through procedurally generated terrains."
      ]
    },
    {
      "cell_type": "code",
      "execution_count": null,
      "metadata": {},
      "outputs": [],
      "source": [
        "# Define the terrain with three colors: blue (water), green (grass), yellow (sand)\n",
        "grid_size = (50, 50)  # Adjust the grid size as needed\n",
        "terrain_density = [0.4, 0.3, 0.3]  # Adjust the density for each color\n",
        "\n",
        "# Generate 2D Perlin noise for the terrain with the random seed\n",
        "terrain_noise = generate_perlin_noise(grid_size, scale=10.0, octaves=6, persistence=0.5, lacunarity=2.0, seed=random.randint(0, 1000))\n",
        "\n",
        "# Normalize the noise values to be between 0 and 1\n",
        "terrain_noise = (terrain_noise - np.min(terrain_noise)) / (np.max(terrain_noise) - np.min(terrain_noise))\n",
        "\n",
        "# Categorize the terrain based on noise values and density\n",
        "terrain = np.zeros(grid_size, dtype=int)\n",
        "for i in range(grid_size[0]):\n",
        "    for j in range(grid_size[1]):\n",
        "        if terrain_noise[i, j] < terrain_density[0]:\n",
        "            terrain[i, j] = 3  # Water\n",
        "        elif terrain_noise[i, j] < terrain_density[0] + terrain_density[1]:\n",
        "            terrain[i, j] = 1  # Grass\n",
        "        else:\n",
        "            terrain[i, j] = 2  # Sand\n",
        "\n",
        "# Visualize the terrain with custom colormap\n",
        "plt.figure(figsize=(10, 10))  # Adjust the figure size\n",
        "\n",
        "# Define custom colormap for water, grass, and sand\n",
        "colors_terrain = ['green', 'orange', 'blue']\n",
        "custom_cmap_terrain = ListedColormap(colors_terrain)\n",
        "\n",
        "# Create a custom normalization for the colormap\n",
        "norm = plt.Normalize(1, 3)\n",
        "\n",
        "# Create a color array for the terrain using the colormap and normalization\n",
        "terrain_color = custom_cmap_terrain(norm(terrain))\n",
        "\n",
        "# Display the terrain with the custom colormap\n",
        "plt.imshow(terrain_color, origin='upper', interpolation='none', vmin=1, vmax=3)\n",
        "\n",
        "# Mark the NPC and Player points (optional)\n",
        "start_point_terrain = (0, 0)\n",
        "goal_point_terrain = (grid_size[0] - 1, grid_size[1] - 1)\n",
        "\n",
        "# Mark the NPC and Player points\n",
        "plt.scatter(*start_point_terrain, color='red', marker='o', s=50, label='Enemy NPC')\n",
        "plt.scatter(*goal_point_terrain, color='red', marker='*', s=80, label='Player')\n",
        "\n",
        "# Add weights as text on each walkable box using stored values\n",
        "for i in range(grid_size[0]):\n",
        "    for j in range(grid_size[1]):\n",
        "        weight = 3 if terrain[i, j] == 3 else 1 if terrain[i, j] == 1 else 2  # Water has weight 3, Grass has weight 1, Sand has weight 2\n",
        "        plt.text(j, i, str(weight), ha='center', va='center', color='white')\n",
        "\n",
        "# Hide only the ticks and tick labels\n",
        "plt.tick_params(axis='both', which='both', bottom=False, top=False, left=False, right=False, labelbottom=False, labelleft=False)\n",
        "\n",
        "plt.title('Game Environment with Perlin Noise-based Terrain and Weights')\n",
        "plt.show()"
      ]
    },
    {
      "cell_type": "markdown",
      "metadata": {},
      "source": [
        "\n",
        "### Navigating Perlin Noise-based Terrain with A*\n",
        "The following code uses the previously defined A* algorithm specifically designed for terrain navigation based on Perlin noise. By utilizing this algorithm, the optimal path is found from NPC to the Player within the game environment."
      ]
    },
    {
      "cell_type": "code",
      "execution_count": null,
      "metadata": {},
      "outputs": [],
      "source": [
        "# Find the optimal path on the terrain using A*\n",
        "terrain_optimal_path, _, _, _ = astar_terrain(start_point_terrain, goal_point_terrain, terrain)"
      ]
    },
    {
      "cell_type": "markdown",
      "metadata": {},
      "source": [
        "### Visualizing The \"Player Tracking\" NPC's Path to The Player\n",
        "The following code visualizes the optimal path found in the previous section. The optimal path is plotted in red, showcasing the algorithm's capability to navigate through the dynamically generated terrain. This visualization offers an insights into how NPCs can utilise A* algorithm's to navigate through the dynamically generated terrains."
      ]
    },
    {
      "cell_type": "code",
      "execution_count": null,
      "metadata": {},
      "outputs": [],
      "source": [
        "# Visualize the terrain and the optimal path with adjusted figure size\n",
        "plt.figure(figsize=(8, 8))  # Adjust the figure size\n",
        "\n",
        "# Define custom colormap for water, grass, and sand\n",
        "colors_terrain = ['green', 'orange', 'blue']\n",
        "custom_cmap_terrain = ListedColormap(colors_terrain)\n",
        "\n",
        "# Create a custom normalization for the colormap\n",
        "norm = plt.Normalize(1, 3)\n",
        "\n",
        "# Create a color array for the terrain using the colormap and normalization\n",
        "terrain_color = custom_cmap_terrain(norm(terrain))\n",
        "\n",
        "# Display the terrain with the custom colormap\n",
        "plt.imshow(terrain_color, origin='upper', interpolation='none', vmin=1, vmax=3)\n",
        "\n",
        "# Define labels for the legend without actually marking the points\n",
        "plt.scatter([], [], color='green', marker='s', s=100, label='Weight = 1 (Grass)')\n",
        "plt.scatter([], [], color='orange', marker='s', s=100, label='Weight = 2 (Sand)')\n",
        "plt.scatter([], [], color='blue', marker='s', s=100, label='Weight = 3 (Water)')\n",
        "\n",
        "# Mark the NPC and Player points\n",
        "plt.scatter(*start_point_terrain, color='red', marker='o', s=50, label='Enemy NPC')\n",
        "plt.scatter(*goal_point_terrain, color='red', marker='*', s=80, label='Player')\n",
        "\n",
        "# Plot the optimal path on Perlin noise-based terrain in yellow\n",
        "optimal_path_terrain_x, optimal_path_terrain_y = zip(*terrain_optimal_path)\n",
        "plt.plot(optimal_path_terrain_y, optimal_path_terrain_x, color='Red', linewidth=2, label='Optimal Path on Terrain')\n",
        "\n",
        "# Hide only the ticks and tick labels\n",
        "plt.tick_params(axis='both', which='both', bottom=False, top=False, left=False, right=False, labelbottom=False, labelleft=False)\n",
        "\n",
        "plt.legend(loc='upper right')\n",
        "\n",
        "plt.title('Optimal Path from NPC to Player')\n",
        "plt.show()"
      ]
    },
    {
      "cell_type": "markdown",
      "metadata": {},
      "source": [
        "### Ready, Set...\n",
        "The following code sets the stage for the game to be brought to life! We are presented with the same terrain we previously generated and the path we found from NPC to player is no longer visible."
      ]
    },
    {
      "cell_type": "code",
      "execution_count": null,
      "metadata": {},
      "outputs": [],
      "source": [
        "# Visualize the terrain and the optimal path with an adjusted figure size\n",
        "fig, ax = plt.subplots(figsize=(8, 8))  # Adjust the figure size\n",
        "plt.tight_layout()\n",
        "# Define custom colormap for water, grass, and sand\n",
        "colors_terrain = ['green', 'orange', 'blue']\n",
        "custom_cmap_terrain = ListedColormap(colors_terrain)\n",
        "\n",
        "# Create a custom normalization for the colormap\n",
        "norm = plt.Normalize(1, 3)\n",
        "\n",
        "# Create a color array for the terrain using the colormap and normalization\n",
        "terrain_color = custom_cmap_terrain(norm(terrain))\n",
        "\n",
        "# Display the terrain with the custom colormap\n",
        "im = ax.imshow(terrain_color, origin='upper', interpolation='none', vmin=1, vmax=3)\n",
        "\n",
        "# Define labels for the legend without actually marking the points\n",
        "ax.scatter([], [], color='green', marker='s', s=100, label='Weight = 1 (Grass)')\n",
        "ax.scatter([], [], color='orange', marker='s', s=100, label='Weight = 2 (Sand)')\n",
        "ax.scatter([], [], color='blue', marker='s', s=100, label='Weight = 3 (Water)')\n",
        "\n",
        "# Mark the start and goal points\n",
        "start_marker = ax.scatter(*start_point_terrain, color='red', marker='o', s=50, label='Enemy NPC')\n",
        "ax.scatter(*goal_point_terrain, color='red', marker='*', s=100, label='Player')\n",
        "\n",
        "# Hide only the ticks and tick labels\n",
        "ax.tick_params(axis='both', which='both', bottom=False, top=False, left=False, right=False, labelbottom=False, labelleft=False)\n",
        "\n",
        "# Ensure the legend does not interfere with the animation\n",
        "ax.legend(loc='upper right').set_animated(True)\n",
        "ax.set_title('NPC Moving to Player Loction Using A* Pathfinding Algorithm')"
      ]
    },
    {
      "cell_type": "markdown",
      "metadata": {},
      "source": [
        "### Action!\n",
        "The following code demonstrates the \"Player Tracking\" NPC utilizing the previously found path to track and chase towards the player!\n",
        "\n",
        "*Press the Play button to watch it in action!*"
      ]
    },
    {
      "cell_type": "code",
      "execution_count": null,
      "metadata": {},
      "outputs": [],
      "source": [
        "# Initialize the line for the optimal path\n",
        "line, = ax.plot([], [], color='Red', linewidth=2, label='Optimal Path on Terrain')\n",
        "\n",
        "# Function to update the plot at each animation frame\n",
        "def update(frame):\n",
        "    # Update the position of the start point along the path\n",
        "    start_marker.set_offsets((optimal_path_terrain_y[frame], optimal_path_terrain_x[frame]))\n",
        "    return start_marker,\n",
        "\n",
        "# Create the animation\n",
        "animation = FuncAnimation(fig, update, frames=len(optimal_path_terrain_x) - 1, interval=100, repeat=False) # Remove -1 if u want NPC to occupy the same spot as player!\n",
        "\n",
        "# Display the animation!\n",
        "display(HTML(animation.to_jshtml()))"
      ]
    },
    {
      "cell_type": "markdown",
      "metadata": {},
      "source": [
        "### Conclusion of Section 2\n",
        "In this section, we demonstrated the practical aplication of A* pathfinding adapted for an NPC navigating a procedurally generated terrain. By integrating Perlin noise-based terrain, we introduced a dynamic element to the game environment. The A* algorithm, tailored for terrain, efficiently identified optimal paths through varied terrains of grass, sand, and water. The visualization of the NPC's tracking journey towards the player added a layer of dynamism to the scenario. Leveraging the A* algorithm, the NPC showcased an ability to intelligently traverse the terrain, emphasizing the algorithm's role in enhancing NPC behavior within the game world. This section showcased the practical application of pathfinding algorithms in game development, showcasing their adaptability to complex terrains. See Apendix for Section 3 (extra) which showcases the same technique demonstrated in a Multi NPC game envrionment where Player position is randomly set!"
      ]
    },
    {
      "cell_type": "markdown",
      "metadata": {},
      "source": [
        "# Part D – Testing <a name=\"part-d\"></a>"
      ]
    },
    {
      "cell_type": "markdown",
      "metadata": {},
      "source": [
        "*As the authors implementation was divided into two sections, the 'Testing Methods' and 'Test Case Tables' will also be separated into two sections for clarity and ease of understanding.*"
      ]
    },
    {
      "cell_type": "markdown",
      "metadata": {},
      "source": [
        "## Appropriate Testing Methods <a name=\"pd-tm\"></a>"
      ]
    },
    {
      "cell_type": "markdown",
      "metadata": {},
      "source": [
        "### Section 1 - Testing Methods <a name=\"pd-tm-s1\"></a>"
      ]
    },
    {
      "cell_type": "markdown",
      "metadata": {},
      "source": [
        "1. **Maze Generation:**\n",
        "   - **Method:** Randomly generate mazes with varying obstacle densities and valid grid sizes.\n",
        "   - **Reason:** Ensures the algorithm handles different maze configurations.\n",
        "\n",
        "2. **Start and Goal Positions:**\n",
        "   - **Method:** Set the start and goal positions at specific coordinates.\n",
        "   - **Reason:** Verifies the correct handling of user-defined start and goal positions.\n",
        "\n",
        "3. **Adding Weights:**\n",
        "   - **Method:** Add weights to walkable cells, considering different scenarios, including obstacles and random weights.\n",
        "   - **Reason:** Checks the algorithm's ability to handle weighted paths in various maze conditions.\n",
        "\n",
        "4. **A\\* Least Steps and Weighted Paths:**\n",
        "   - **Method:** Evaluate the algorithm's performance in finding optimal paths with least steps and weighted paths.\n",
        "   - **Reason:** Tests the core functionality of the A* algorithm in different scenarios.\n",
        "\n",
        "5. **Visualization:**\n",
        "   - **Method:** Visualize the generated paths for verification.\n",
        "   - **Reason:** Allows for manual inspection and verification of the correctness of the generated paths.\n",
        "\n",
        "#### Summary:\n",
        "These testing methods collectively ensure the effectiveness and correctness of the A* algorithm in different scenarios, covering maze generation, pathfinding in obstacle-rich environments, and handling weighted paths.\n"
      ]
    },
    {
      "cell_type": "markdown",
      "metadata": {},
      "source": [
        "### Section 2 - Testing Methods <a name=\"pd-tm-s2\"></a>"
      ]
    },
    {
      "cell_type": "markdown",
      "metadata": {},
      "source": [
        "1. **Terrain Generation and Coloring:**\n",
        "   - **Method:** Generate terrain with valid Perlin noise values, color and weight it according to terrain types.\n",
        "   - **Reason:** Verifies the correct generation and coloring and weights of the terrain.\n",
        "\n",
        "2. **NPC and Player Positions:**\n",
        "   - **Method:** Set NPC and Player positions at specific coordinates.\n",
        "   - **Reason:** Ensures correct placement of NPC and Player entities on the terrain.\n",
        "\n",
        "3. **A\\* Terrain Pathfinding:**\n",
        "   - **Method:** Assess the algorithm's ability to find optimal paths considering terrain type weights.\n",
        "   - **Reason:** Validates the effectiveness of the A* algorithm in procedurally generated environments.\n",
        "\n",
        "4. **Perlin Noise Consistency:**\n",
        "   - **Method:** Test pathfinding consistency with varied Perlin noise seeds.\n",
        "   - **Reason:** Ensures robustness in pathfinding across different terrain variations.\n",
        "\n",
        "5. **Time Measurement:**\n",
        "   - **Method:** Measure and display the time taken for pathfinding.\n",
        "   - **Reason:** Evaluates the algorithm's efficiency, particularly in larger environments.\n",
        "\n",
        "6. **Visualization:**\n",
        "   - **Method:** Visualize the generated paths for verification.\n",
        "   - **Reason:** Allows for manual inspection and verification of the correctness of the generated paths.\n",
        "\n",
        "7. **NPC Tracking Animation:**\n",
        "   - **Method:** Observe NPC behavior in tracking and moving toward the Player.\n",
        "   - **Reason:** Validates the functionality of NPC tracking and interaction with the Player.\n",
        "\n",
        "#### Summary:\n",
        "These testing methods collectively ensure the A* algorithm's suitability for player tracking in procedurally generated environments, covering terrain generation, pathfinding in dynamic landscapes, and NPC behavior as required for a grid-based RPG."
      ]
    },
    {
      "cell_type": "markdown",
      "metadata": {},
      "source": [
        "## Test Case Tables <a name=\"pd-tct\"></a>"
      ]
    },
    {
      "cell_type": "markdown",
      "metadata": {},
      "source": [
        "### Section 1 - Test Case Table <a name=\"pd-tct-s1\"></a>"
      ]
    },
    {
      "cell_type": "markdown",
      "metadata": {},
      "source": [
        "*Table 1* showcases all the test cases for section 1 of the prototype.\n",
        "\n",
        "| No. | Test case                              | Expected result                                      | Actual result                                        | Pass / Fail |\n",
        "|-----|----------------------------------------|------------------------------------------------------|------------------------------------------------------|-------------|\n",
        "| 1   | Maze Generation - Random Obstacle Density | Generates a maze with a random obstacle density     | Generates a maze with a random obstacle density     | <span style=\"color: Green;\">Pass</span> |\n",
        "| 2   | Maze Generation - Valid Grid Size      | Generates a maze with a valid grid size               | Generates a maze with a valid grid size               | <span style=\"color: Green;\">Pass</span> |\n",
        "| 3   | Start Position - Valid Coordinates     | Sets the start position at top left corner cell       | Start position set at top left corner cell             | <span style=\"color: Green;\">Pass</span> |\n",
        "| 4   | Goal Position - Valid Coordinates      | Sets the goal position at bottom right corner cell  | Goal position set at bottom right corner cell               | <span style=\"color: Green;\">Pass</span> |\n",
        "| 5   | Add Weights - Valid Maze              | Successfully adds weights to a valid maze             | Successfully adds weights to a valid maze             | <span style=\"color: Green;\">Pass</span> |\n",
        "| 6   | Add Weights - Maze with Obstacles     | Handles adding weights in a maze with obstacles      | Handles adding weights in a maze with obstacles      | <span style=\"color: Green;\">Pass</span> |\n",
        "| 7   | Add Weights - Maze without Walkable Cells | Handles adding weights in a maze without walkable cells | Handles adding weights in a maze without walkable cells | <span style=\"color: Green;\">Pass</span> |\n",
        "| 8   | Add Weights - Random Weights           | Adds random weights to walkable cells               | Adds random weights walkable cells                      | <span style=\"color: Green;\">Pass</span> |\n",
        "| 9   | A* Least Steps - Valid Path           | Shortest path with least steps is found               | Shortest path with least steps is found               | <span style=\"color: Green;\">Pass</span> |\n",
        "| 10  | A* Least Steps - No Valid Path        | No valid path exists                                  | No valid path exists                                  | <span style=\"color: Green;\">Pass</span> |\n",
        "| 11  | A* Least Steps - Obstacle Density 0   | Shortest path with least steps in an obstacle-free grid | Shortest path with least steps in an obstacle-free grid | <span style=\"color: Green;\">Pass</span> |\n",
        "| 12  | A* Least Steps - Obstacle Density 1   | No valid path in a grid with obstacles everywhere    | No valid path in a grid with obstacles everywhere    | <span style=\"color: Green;\">Pass</span> |\n",
        "| 13  | A* Least Steps - Large Grid           | Shortest path with least steps in a large grid        | Shortest path with least steps in a large grid        | <span style=\"color: Green;\">Pass</span> |\n",
        "| 14  | A* Least Steps - Random Weights       | Shortest path with least steps ignoring random weights | Shortest path with least steps ignoring  random weights | <span style=\"color: Green;\">Pass</span> |\n",
        "| 15  | A* Least Steps - Heuristic            | Manhattan distance heuristic used successfully | Manhattan distance heuristic used successfully | <span style=\"color: Green;\">Pass</span> |\n",
        "| 16  | A* Weighted - Valid Path              | Weighted optimal path is found                       | Weighted optimal path is found                       | <span style=\"color: Green;\">Pass</span> |\n",
        "| 17  | A* Weighted - No Valid Path           | No valid path exists                                  | No valid path exists                                  | <span style=\"color: Green;\">Pass</span> |\n",
        "| 18  | A* Weighted - Obstacle Density 0      | Weighted optimal path in an obstacle-free grid        | Weighted optimal path in an obstacle-free grid        | <span style=\"color: Green;\">Pass</span> |\n",
        "| 19  | A* Weighted - Obstacle Density 1      | No valid path in a grid with obstacles everywhere    | No valid path in a grid with obstacles everywhere    | <span style=\"color: Green;\">Pass</span> |\n",
        "| 20  | A* Weighted - Large Grid              | Weighted optimal path in a large grid                 | Weighted optimal path in a large grid                 | <span style=\"color: Green;\">Pass</span> |\n",
        "| 21  | A* Weighted - Random Weights          | Weighted optimal path in a grid with random weights   | Weighted optimal path in a grid with random weights   | <span style=\"color: Green;\">Pass</span> |\n",
        "| 22  | A* Weighted - Heuristic               | Manhattan distance heuristic used successfully | Manhattan distance heuristic used successfully | <span style=\"color: Green;\">Pass</span> |\n",
        "| 23  | Visualize Least Steps Path            | Visualization of the least steps path                 | Visualization matches expected result                | <span style=\"color: Green;\">Pass</span> |\n",
        "| 24  | Visualize Weighted Path               | Visualization of the weighted path                    | Visualization matches expected result                | <span style=\"color: Green;\">Pass</span> |\n",
        "\n",
        "\n",
        "<div style=\"text-align: center\"><i><b>Table 1: Section 1 - Test Case Table</b></i></div>"
      ]
    },
    {
      "cell_type": "markdown",
      "metadata": {},
      "source": [
        "### Section 2 - Test Case Table <a name=\"pd-tct-s2\"></a>"
      ]
    },
    {
      "cell_type": "markdown",
      "metadata": {},
      "source": [
        "*Table 2* showcases all the test cases for section 2 of the prototype.\n",
        "\n",
        "| No. | Test case                                      | Expected result                                           | Actual result                                           | Pass / Fail |\n",
        "|-----|------------------------------------------------|-----------------------------------------------------------|-----------------------------------------------------------|-------------|\n",
        "| 1   | Terrain - Generation                            | Generates terrain with valid Perlin noise values           | Generates terrain with valid Perlin noise values           | <span style=\"color: Green;\">Pass</span> |\n",
        "| 2   | Terrain - Colors                                | Colors the terrain to match the specified terrain types    | Colors the terrain to match the specified terrain types    | <span style=\"color: Green;\">Pass</span> |\n",
        "| 3   | Terrain - Weights                               | Successfully adds weights to each terrain type             | Successfully adds weights to each terrain type             | <span style=\"color: Green;\">Pass</span> |\n",
        "| 4   | Enemy Position - Valid Coordinates              | Sets the Enemy position at top left corner cell            | Sets the Enemy position at top left corner cell            | <span style=\"color: Green;\">Pass</span> |\n",
        "| 5   | Player Position - Valid Coordinates             | Sets the Player position at bottom right corner cell       | Sets the Player position at bottom right corner cell       | <span style=\"color: Green;\">Pass</span> |\n",
        "| 6   | NPC and Player Marks                            | Marks the NPC and Player points on the terrain             | Marks the NPC and Player points on the terrain             | <span style=\"color: Green;\">Pass</span> |\n",
        "| 7   | A* Terrain Path - Terrain type weights          | Optimal path with terrain type weights                     | Optimal path with terrain type weights                     | <span style=\"color: Green;\">Pass</span> |\n",
        "| 8   | A* Terrain Path - Perlin Noise Consistency      | Consistency in pathfinding results with varied noise seeds | Consistency in pathfinding results with varied noise seeds | <span style=\"color: Green;\">Pass</span> |\n",
        "| 9   | A* Terrain Path - Valid Manhattan Heuristic     | Optimal path found using valid Manhattan heuristic         | Optimal path found using valid Manhattan heuristic         | <span style=\"color: Green;\">Pass</span> |\n",
        "| 10  | A* Terrain Path - Visualization                 | Visualization of the optimal path on terrain               | Visualization of the optimal path on terrain               | <span style=\"color: Green;\">Pass</span> |\n",
        "| 11  | A* Terrain Path - Time Measurement              | Time measurement is displayed correctly                    | Time measurement is displayed correctly                    | <span style=\"color: Green;\">Pass</span> |\n",
        "| 12  | A* Terrain Path - Large Grid                    | Optimal path on terrain in a large grid                    | Optimal path on terrain in a large grid                    | <span style=\"color: Green;\">Pass</span> |\n",
        "| 13  | A* Terrain Path - Random Terrain Dimensions     | Optimal path on terrain with random dimensions             | Optimal path on terrain with random dimensions             | <span style=\"color: Green;\">Pass</span> |\n",
        "| 14  | A* Terrain Path - Random Terrain Densities      | Optimal path on terrain with random densities              | Optimal path on terrain with random densities              | <span style=\"color: Green;\">Pass</span> |\n",
        "| 15  | A* Terrain Path - NPC Tracking Animation        | NPC tracks player and moves to a cell near the player      | NPC tracks player and moves to a cell near the player      | <span style=\"color: Green;\">Pass</span> |\n",
        "<div style=\"text-align: center\"><i><b>Table 2: Section 2 - Test Case Table</b></i></div>"
      ]
    },
    {
      "cell_type": "markdown",
      "metadata": {},
      "source": [
        "# Part E – Evaluate results <a name=\"part-e\"></a>"
      ]
    },
    {
      "cell_type": "markdown",
      "metadata": {},
      "source": [
        "## Evaluation of Test Results of Section 1 of the Prototype: <a name=\"pe-c1\"></a>"
      ]
    },
    {
      "cell_type": "markdown",
      "metadata": {},
      "source": [
        "1. **Maze Generation:**\n",
        "   The maze generation method successfully creates mazes with varying obstacle densities and grid sizes, validating the algorithm's adaptability to different configurations. The user-defined start and goal positions are correctly handled, ensuring the pathfinding algorithm can be properly implemented. The effective addition of random weights to walkable cells help showcase the 2 implemented varients of the A* algorithm.\n",
        "   \n",
        "2. **A\\* (Least Steps and Weighted) Paths:**\n",
        "   The A* algorithm successfully finds optimal paths for both varients of the A* algorithm:\n",
        "      - **A\\* Least steps**,  where the algorithm ignores the weights and just finds the shortest path to the goal.\n",
        "      - **A\\* Weighted**, where the algorithm takes into account the weights of each cell while finding the shortest path to the goal.\n",
        "   \n",
        "   The success of both varients of the A* algorithm, are supported by consistent and correct results in all pathfinding scenarios. (See Figure 6)\n",
        "\n",
        "3. **Visualization:**\n",
        "   The visualization of the maze and paths align with expected results, providing a manual verification method for the correctness and reliability of generated paths.\n",
        "\n",
        "<div style=\"display: flex; justify-content: center;\">\n",
        "    <img src=\"https://cdn.discordapp.com/attachments/1178979732201672718/1188770234971201566/output1.png\" alt=\"High Level Diagram\" style=\"width: 38%;\">\n",
        "</div>\n",
        "<div style=\"text-align: center\"><i><b>Figure 6: Visualization of Weighted and Non Weighted Paths </b></i></div>\n",
        "\n",
        "\n",
        "***The testing methods in section 1, demonstrate the high accuracy and reliability of pathfinding with A\\* algorithm in a grid-based maze. The algorithm consistently produced correct results, and showcases robust performance in pathfinding.***"
      ]
    },
    {
      "cell_type": "markdown",
      "metadata": {},
      "source": [
        "## Evaluation of Test Results of Section 2 of the Prototype: <a name=\"pe-c2\"></a>"
      ]
    },
    {
      "cell_type": "markdown",
      "metadata": {},
      "source": [
        "1. **Terrain Generation and Coloring:** The algorithm generates a terrain with valid Perlin noise values and correctly colors and weights it according to terrain types. This showcases that as the terrain consistently matches expected characteristics expected by the author.\n",
        "\n",
        "2. **A\\* Terrain Pathfinding:** The algorithm effectively finds optimal paths considering terrain type weights, demonstrating its suitability for procedurally generated environments, This is supported by consistent and correct pathfinding results. Pathfinding consistency across varied Perlin noise seeds ensures robustness in different terrain variations. This is showcased by the algorithm consistently providing reliable results under varying noise conditions.\n",
        "\n",
        "3. **Time Measurement:** Time measurements accurately reflect the efficiency of the algorithm, particularly in larger environments. As time measurements align with expectations, indicating the algorithms efficiency to the author.\n",
        "\n",
        "4. **Visualization:**\n",
        "   The visualization of the maze and paths align with expected results, providing a manual verification method for the correctness and reliability of generated paths.\n",
        "\n",
        "5. **NPC Tracking Animation:** NPC tracking and movement towards the Player are observed, validating the functionality of NPC behavior. The authour is highly confident with his findings as  the NPC behavior consistently adheres to expected tracking and movement patterns.\n",
        "\n",
        "***The testing methods in section 2, collectively demonstrate the A\\* algorithm's suitability for player tracking in procedurally generated environments. The algorithm consistently produces accurate and reliable results, and the author can confidently prove that its performance is high.***\n"
      ]
    },
    {
      "cell_type": "markdown",
      "metadata": {},
      "source": [
        "## Overall Evaluation: <a name=\"pe-oc\"></a>"
      ]
    },
    {
      "cell_type": "markdown",
      "metadata": {},
      "source": [
        "The author implemented 2 Sections with 3 varitions of the A* algorithm to verify and confirm beyond a doubt of its effectiveness in accurate pathfinding. All variations of the A* algorithm, as implemented in the prototype, exhibits highly accurate and reliable pathfinding results in all grid-based game envrionments (The Maze, and The Procedurally Generated Environment). The testing methods covered diverse scenarios, and the algorithm consistently produced correct results. The interpretability of results is straightforward, as visualizations provided a direct means of verification. The prototype's performance aligns well with the problem's requirements, demonstrating its efficacy in grid-based RPGs. \n",
        "\n",
        "***The author can confidently conclude the performance of the prototype is reliable, consistant and robust, further affirming its effectiveness in solving the proposed problem of Player Tracking NPC in a grid-based RPG. In conclusion, the authors selection of the A\\* algorithm as a solution for the specified problem has been accurately proved.***"
      ]
    },
    {
      "cell_type": "markdown",
      "metadata": {},
      "source": [
        "# References <a name=\"references\"></a>\n"
      ]
    },
    {
      "cell_type": "markdown",
      "metadata": {},
      "source": [
        "## Books: <a name=\"r-books\"></a>\n",
        "- Eric Bonabeau, M. D. (1999). *Swarm Intelligence*. Oxford University Press.\n",
        "- Millington, I. (2019). *AI for Games Third Edition*. CRC Press.\n",
        "- Millington, I. (2022). *AI FOR GAMES*. CRC Press.\n",
        "- Watkins, R. (2016). *Procedural Content Generation for Unity Game Development*. Packt Publishing."
      ]
    },
    {
      "cell_type": "markdown",
      "metadata": {},
      "source": [
        "## Lecture Slides: <a name=\"r-ls\"></a>\n",
        "- Module 6COSC020C.1 Applied AI\n",
        "- Module 6CCGD007C.1 Game AI"
      ]
    },
    {
      "cell_type": "markdown",
      "metadata": {},
      "source": [
        "## Source to Images: <a name=\"r-si\"></a>\n",
        "- Figure 1:  https://www.pinterest.com/pin/217228382003192180/\n",
        "- Figure 2:  https://www.ign.com/wikis/fire-emblem-engage/Chapter_3_-_Hostilities\n",
        "- Figure 3:  https://playcanvas.com/project/384292/overview/procedurally-generated-world\n",
        "- Figure 4:  https://medium.com/@glazychevaeo/unity3d-procedural-generated-low-poly-terrain-d11914ab9f71"
      ]
    },
    {
      "cell_type": "markdown",
      "metadata": {},
      "source": [
        "# Apendix <a name=\"apendix\"></a>"
      ]
    },
    {
      "cell_type": "markdown",
      "metadata": {},
      "source": [
        "## Part C - Section 3 : Multi Agent Player Tracking In a Procedurally Generated Environment <a name=\"apendix-s3\"></a>"
      ]
    },
    {
      "cell_type": "markdown",
      "metadata": {},
      "source": [
        "***This Section just expands on Section 2 of Part C Implementation to showcase multiple NPCs Tracking player at same time using A\\* Algorithm.***"
      ]
    },
    {
      "cell_type": "markdown",
      "metadata": {},
      "source": [
        "The following code generates a visual representation of the previously generated game environment (from Part C - Section 2) using a custom colormap. The weights of the terrain are the same as before, it also has marked points for four enemies this time, and the player is randomly placed within the environment. "
      ]
    },
    {
      "cell_type": "code",
      "execution_count": null,
      "metadata": {},
      "outputs": [],
      "source": [
        "# Placing 4 start spots as enemy 1, 2, 3, and 4\n",
        "start_points_enemies = [(0, 0), (0, grid_size[1] - 1), (grid_size[0] - 1, 0), (grid_size[0] - 1, grid_size[1] - 1)]\n",
        "\n",
        "# Visualize the terrain with custom colormap and start points for enemies\n",
        "plt.figure(figsize=(11, 11))\n",
        "\n",
        "# Create a color array for the terrain using the colormap and normalization\n",
        "terrain_color = custom_cmap_terrain(norm(terrain))\n",
        "\n",
        "# Display the terrain with the custom colormap\n",
        "plt.imshow(terrain_color, origin='upper', interpolation='none', vmin=1, vmax=3)\n",
        "\n",
        "# Mark the start points for enemies\n",
        "for i, start_point_enemy in enumerate(start_points_enemies, start=1):\n",
        "    plt.scatter(*start_point_enemy, color='red', marker='o', s=100, label=f'Enemy {i}')\n",
        "\n",
        "# Generate a random player position that is not on the border\n",
        "randomcoord = np.random.randint(1, grid_size[0] - 1)  # Avoids the border so as to not be placed over an enemy\n",
        "goal_point_player = (randomcoord, randomcoord)\n",
        "\n",
        "plt.scatter(*goal_point_player, color='red', marker='*', s=100, label='Player')\n",
        "\n",
        "# Add weights as text on each walkable box using stored values\n",
        "for i in range(grid_size[0]):\n",
        "    for j in range(grid_size[1]):\n",
        "        weight = 3 if terrain[i, j] == 3 else 1 if terrain[i, j] == 1 else 2\n",
        "        plt.text(j, i, str(weight), ha='center', va='center', color='white')\n",
        "\n",
        "plt.tick_params(axis='both', which='both', bottom=False, top=False, left=False, right=False, labelbottom=False, labelleft=False)\n",
        "\n",
        "plt.title('Game Environment with 4 Enemies and Player in a Random Position')\n",
        "plt.show()"
      ]
    },
    {
      "cell_type": "markdown",
      "metadata": {},
      "source": [
        "The following code calculates the optimal paths for each of the four enemies to reach the player in the game environment. It utilizes the A* algorithm previously defined to find the shortest paths, storing the results in the optimal_paths_enemies list."
      ]
    },
    {
      "cell_type": "code",
      "execution_count": null,
      "metadata": {},
      "outputs": [],
      "source": [
        "# Find the optimal paths for all enemies to reach the player\n",
        "optimal_paths_enemies = []\n",
        "\n",
        "for start_point_enemy in start_points_enemies:\n",
        "    enemy_path, _, _, _ = astar_terrain(start_point_enemy, goal_point_player, terrain)\n",
        "    optimal_paths_enemies.append(enemy_path)"
      ]
    },
    {
      "cell_type": "markdown",
      "metadata": {},
      "source": [
        "The following code visualizes the game environment with the terrain, enemies, and their optimal paths that was calculated using the A* in the previous cell. Each enemy's path is displayed with a distinct color, moving towards the point marked for the player. The resulting plot provides a clear representation of how enemies navigate the terrain to reach the player."
      ]
    },
    {
      "cell_type": "code",
      "execution_count": null,
      "metadata": {},
      "outputs": [],
      "source": [
        "# Visualize the terrain, start points for enemies, and the optimal paths\n",
        "plt.figure(figsize=(10, 10))\n",
        "\n",
        "# Display the terrain with the custom colormap\n",
        "plt.imshow(terrain_color, origin='upper', interpolation='none', vmin=1, vmax=3)\n",
        "\n",
        "# Mark the start points for enemies\n",
        "for i, start_point_enemy in enumerate(start_points_enemies, start=1):\n",
        "    plt.scatter(*start_point_enemy, color='red', marker='o', s=100, label=f'Enemy {i}')\n",
        "\n",
        "# Mark the goal point for the player\n",
        "plt.scatter(*goal_point_player, color='red', marker='*', s=100, label='Player')\n",
        "\n",
        "# Define four fixed colors for the paths\n",
        "path_colors = ['red', 'aqua', 'pink', 'brown']\n",
        "\n",
        "# Plot the optimal paths for enemies to reach the player\n",
        "for i, (optimal_path_enemy, path_color) in enumerate(zip(optimal_paths_enemies, path_colors), start=1):\n",
        "    optimal_path_enemy_x, optimal_path_enemy_y = zip(*optimal_path_enemy)\n",
        "    plt.plot(optimal_path_enemy_y, optimal_path_enemy_x, linewidth=2, label=f'Enemy {i} Path', color=path_color)\n",
        "\n",
        "\n",
        "plt.tick_params(axis='both', which='both', bottom=False, top=False, left=False, right=False, labelbottom=False, labelleft=False)\n",
        "\n",
        "plt.legend(loc='upper right')\n",
        "plt.title('Enemies using A* to Reach the Player')\n",
        "plt.show()"
      ]
    }
  ],
  "metadata": {
    "colab": {
      "provenance": []
    },
    "kernelspec": {
      "display_name": "Python 3",
      "name": "python3"
    },
    "language_info": {
      "codemirror_mode": {
        "name": "ipython",
        "version": 3
      },
      "file_extension": ".py",
      "mimetype": "text/x-python",
      "name": "python",
      "nbconvert_exporter": "python",
      "pygments_lexer": "ipython3",
      "version": "3.11.5"
    }
  },
  "nbformat": 4,
  "nbformat_minor": 0
}
