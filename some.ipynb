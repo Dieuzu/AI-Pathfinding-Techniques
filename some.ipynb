{
 "cells": [
  {
   "cell_type": "markdown",
   "metadata": {},
   "source": [
    "|      |   A   |   A   |   G   |   B  |   T   |\n",
    "|--------------|--------------|--------------|--------------|--------------|--------------|\n",
    "|   A   |   0.2   |   0.7   |   0.1   |   0     |   0     |\n",
    "|   A   |   0     |   0     |   0.5   |   0     |   0.5   |\n",
    "|   G   |   0     |   0     |   0.2   |   0.8   |   0     |\n",
    "|   B   |   0.4   |   0.2   |   0     |   0     |   0.4   |\n",
    "|  T    |   0.7   |   0     |   0     |   0     |   0.3   |\n",
    "\n",
    "\n",
    "Initial Probabilities\n",
    "- P(A) = 0.3\n",
    "- P(A)= 0.4\n",
    "- P(B) = 0.2\n",
    "- P(G)=0\n",
    "- P(T) =0.1\n",
    "\n",
    "Observation Probabilities\n",
    "\n",
    "- P(A|1) = 1.0 \n",
    "- P(A|1) = 0.0 \n",
    "- P(G|1) = 0.0 \n",
    "- P(B|1) = 0.0 \n",
    "- P(T|1) = 0.0 \n",
    "------------------------------------------\n",
    "- P(A|2) = 0.5 \n",
    "- P(A|2) = 0.1 \n",
    "- P(G|2) = 0.3 \n",
    "- P(B|2) = 0.1\n",
    "- P(T|2) = 0.0 \n",
    "------------------------------------------\n",
    "- P(A|3) = 0.4\n",
    "- P(A|3) = 0.1\n",
    "- P(G|3) = 0.2\n",
    "- P(B|3) = 0.2\n",
    "- P(T|3) = 0.1\n",
    "------------------------------------------\n",
    "- P(A|4) = 0.0 \n",
    "- P(A|4) = 0.2 \n",
    "- P(G|4) = 0.3\n",
    "- P(B|4) = 0.3 \n",
    "- P(T|4) = 0.2 \n",
    "------------------------------------------\n",
    "- P(A|5) = 0.0 \n",
    "- P(A|5) = 0.0 \n",
    "- P(G|5) = 0.0 \n",
    "- P(B|5) = 0.0 \n",
    "- P(T|5) = 1.0"
   ]
  },
  {
   "cell_type": "markdown",
   "metadata": {},
   "source": [
    "Observation Probabilities\n",
    "\n",
    "- P(A|1) = 1.0 \n",
    "- P(A|1) = 0.0 \n",
    "- P(G|1) = 0.0 \n",
    "- P(B|1) = 0.0 \n",
    "- P(T|1) = 0.0 \n",
    "------------------------------------------\n",
    "- P(A|2) = 0.5 \n",
    "- P(A|2) = 0.1 \n",
    "- P(G|2) = 0.3 \n",
    "- P(B|2) = 0.1\n",
    "- P(T|2) = 0.0 \n",
    "------------------------------------------\n",
    "- P(A|3) = 0.4\n",
    "- P(A|3) = 0.1\n",
    "- P(G|3) = 0.2\n",
    "- P(B|3) = 0.2\n",
    "- P(T|3) = 0.1\n",
    "------------------------------------------\n",
    "- P(A|4) = 0.0 \n",
    "- P(A|4) = 0.2 \n",
    "- P(G|4) = 0.3\n",
    "- P(B|4) = 0.3 \n",
    "- P(T|4) = 0.2 \n",
    "------------------------------------------\n",
    "- P(A|5) = 0.0 \n",
    "- P(A|5) = 0.0 \n",
    "- P(G|5) = 0.0 \n",
    "- P(B|5) = 0.0 \n",
    "- P(T|5) = 1.0"
   ]
  },
  {
   "cell_type": "code",
   "execution_count": 1,
   "metadata": {},
   "outputs": [
    {
     "name": "stdout",
     "output_type": "stream",
     "text": [
      "Requirement already satisfied: networkx in c:\\users\\dieuzu\\anaconda3\\lib\\site-packages (3.1)\n"
     ]
    }
   ],
   "source": [
    "!pip install networkx"
   ]
  },
  {
   "cell_type": "code",
   "execution_count": 7,
   "metadata": {},
   "outputs": [
    {
     "data": {
      "image/png": "[encoded data removed]",
      "text/plain": [
       "<Figure size 640x480 with 1 Axes>"
      ]
     },
     "metadata": {},
     "output_type": "display_data"
    }
   ],
   "source": [
    "import networkx as nx\n",
    "import matplotlib.pyplot as plt\n",
    "\n",
    "# Define the states\n",
    "states = ['A', 'A', 'G', 'B', 'T']\n",
    "\n",
    "# Define the transition probabilities\n",
    "transition_probs = {\n",
    "    'A': {'A': 0.2, 'A': 0.7, 'G': 0.1, 'B': 0, 'T': 0},\n",
    "    'A': {'A': 0, 'A': 0, 'G': 0.5, 'B': 0, 'T': 0.5},\n",
    "    'G': {'A': 0, 'A': 0, 'G': 0.2, 'B': 0.8, 'T': 0},\n",
    "    'B': {'A': 0.4, 'A': 0.2, 'G': 0, 'B': 0, 'T': 0.4},\n",
    "    'T': {'A': 0.7, 'A': 0, 'G': 0, 'B': 0, 'T': 0.3}\n",
    "}\n",
    "\n",
    "# Create a directed graph\n",
    "G = nx.DiGraph()\n",
    "\n",
    "# Add edges with weights representing transition probabilities\n",
    "for state in states:\n",
    "    for transition, prob in transition_probs[state].items():\n",
    "        G.add_edge(state, transition, weight=prob)\n",
    "\n",
    "# Draw the graph\n",
    "pos = nx.spring_layout(G)\n",
    "nx.draw_networkx_nodes(G, pos)\n",
    "nx.draw_networkx_labels(G, pos)\n",
    "nx.draw_networkx_edges(G, pos, width=[G[u][v]['weight'] for u, v in G.edges()])\n",
    "\n",
    "plt.show()\n"
   ]
  },
  {
   "cell_type": "code",
   "execution_count": 13,
   "metadata": {},
   "outputs": [
    {
     "name": "stdout",
     "output_type": "stream",
     "text": [
      "Probability of sequence AABGA: 0.0\n",
      "Probability of sequence ABBGT: 0.0\n"
     ]
    }
   ],
   "source": [
    "# Initial probabilities\n",
    "initial_probabilities = {\n",
    "    \"A\": 0.3,\n",
    "    \"A\": 0.4,\n",
    "    \"G\": 0.0,\n",
    "    \"B\": 0.2,\n",
    "    \"T\": 0.1,\n",
    "}\n",
    "\n",
    "# Observation probabilities\n",
    "observation_probabilities = {\n",
    "    \"1\": {\n",
    "        \"A\": 1.0,\n",
    "        \"A\": 0.0,\n",
    "        \"G\": 0.0,\n",
    "        \"B\": 0.0,\n",
    "        \"T\": 0.0,\n",
    "    },\n",
    "    \"2\": {\n",
    "        \"A\": 0.5,\n",
    "        \"A\": 0.1,\n",
    "        \"G\": 0.3,\n",
    "        \"B\": 0.1,\n",
    "        \"T\": 0.0,\n",
    "    },\n",
    "    \"3\": {\n",
    "        \"A\": 0.4,\n",
    "        \"A\": 0.1,\n",
    "        \"G\": 0.2,\n",
    "        \"B\": 0.2,\n",
    "        \"T\": 0.1,\n",
    "    },\n",
    "    \"4\": {\n",
    "        \"A\": 0.0,\n",
    "        \"A\": 0.2,\n",
    "        \"G\": 0.3,\n",
    "        \"B\": 0.3,\n",
    "        \"T\": 0.2,\n",
    "    },\n",
    "    \"5\": {\n",
    "        \"A\": 0.0,\n",
    "        \"A\": 0.0,\n",
    "        \"G\": 0.0,\n",
    "        \"B\": 0.0,\n",
    "        \"T\": 1.0,\n",
    "    },\n",
    "}\n",
    "\n",
    "# Define sequences\n",
    "sequences = {\n",
    "    \"a\": \"AABGA\",\n",
    "    \"b\": \"ABBGT\",\n",
    "}\n",
    "\n",
    "# Calculate probability for each sequence\n",
    "for sequence_name, sequence in sequences.items():\n",
    "    probability = 1\n",
    "    for i, state in enumerate(sequence):\n",
    "        previous_state = sequence[i - 1] if i > 0 else None\n",
    "        observation = str(i + 1)\n",
    "        emission_probability = observation_probabilities[observation][state]\n",
    "        if previous_state:\n",
    "            transition_probability = initial_probabilities[state] if i == 1 else observation_probabilities[observation][previous_state]\n",
    "            probability *= transition_probability * emission_probability\n",
    "        else:\n",
    "            probability *= initial_probabilities[state] * emission_probability\n",
    "    print(f\"Probability of sequence {sequence}: {probability}\")"
   ]
  }
 ],
 "metadata": {
  "kernelspec": {
   "display_name": "base",
   "language": "python",
   "name": "python3"
  },
  "language_info": {
   "codemirror_mode": {
    "name": "ipython",
    "version": 3
   },
   "file_extension": ".py",
   "mimetype": "text/x-python",
   "name": "python",
   "nbconvert_exporter": "python",
   "pygments_lexer": "ipython3",
   "version": "3.11.5"
  }
 },
 "nbformat": 4,
 "nbformat_minor": 2
}
